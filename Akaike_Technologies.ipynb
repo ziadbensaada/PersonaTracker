{
  "cells": [
    {
      "cell_type": "markdown",
      "metadata": {
        "id": "dMyBF6VAYgho"
      },
      "source": [
        "## **Step 1: Set Up Your Environment**"
      ]
    },
    {
      "cell_type": "markdown",
      "metadata": {
        "id": "9hk6K7qYYm0I"
      },
      "source": [
        "**1.1 Install Required Dependencies**"
      ]
    },
    {
      "cell_type": "code",
      "execution_count": null,
      "metadata": {
        "colab": {
          "base_uri": "https://localhost:8080/"
        },
        "id": "9KKjbBfyYdf6",
        "outputId": "2355cce9-4c67-42da-c7f5-4e23ca81fbd3"
      },
      "outputs": [
        {
          "name": "stdout",
          "output_type": "stream",
          "text": [
            "Requirement already satisfied: beautifulsoup4 in /usr/local/lib/python3.11/dist-packages (4.13.3)\n",
            "Requirement already satisfied: requests in /usr/local/lib/python3.11/dist-packages (2.32.3)\n",
            "Requirement already satisfied: nltk in /usr/local/lib/python3.11/dist-packages (3.9.1)\n",
            "Requirement already satisfied: spacy in /usr/local/lib/python3.11/dist-packages (3.8.4)\n",
            "Collecting gtts\n",
            "  Downloading gTTS-2.5.4-py3-none-any.whl.metadata (4.1 kB)\n",
            "Collecting fastapi\n",
            "  Downloading fastapi-0.115.11-py3-none-any.whl.metadata (27 kB)\n",
            "Collecting uvicorn\n",
            "  Downloading uvicorn-0.34.0-py3-none-any.whl.metadata (6.5 kB)\n",
            "Collecting streamlit\n",
            "  Downloading streamlit-1.43.2-py2.py3-none-any.whl.metadata (8.9 kB)\n",
            "Requirement already satisfied: soupsieve>1.2 in /usr/local/lib/python3.11/dist-packages (from beautifulsoup4) (2.6)\n",
            "Requirement already satisfied: typing-extensions>=4.0.0 in /usr/local/lib/python3.11/dist-packages (from beautifulsoup4) (4.12.2)\n",
            "Requirement already satisfied: charset-normalizer<4,>=2 in /usr/local/lib/python3.11/dist-packages (from requests) (3.4.1)\n",
            "Requirement already satisfied: idna<4,>=2.5 in /usr/local/lib/python3.11/dist-packages (from requests) (3.10)\n",
            "Requirement already satisfied: urllib3<3,>=1.21.1 in /usr/local/lib/python3.11/dist-packages (from requests) (2.3.0)\n",
            "Requirement already satisfied: certifi>=2017.4.17 in /usr/local/lib/python3.11/dist-packages (from requests) (2025.1.31)\n",
            "Requirement already satisfied: click in /usr/local/lib/python3.11/dist-packages (from nltk) (8.1.8)\n",
            "Requirement already satisfied: joblib in /usr/local/lib/python3.11/dist-packages (from nltk) (1.4.2)\n",
            "Requirement already satisfied: regex>=2021.8.3 in /usr/local/lib/python3.11/dist-packages (from nltk) (2024.11.6)\n",
            "Requirement already satisfied: tqdm in /usr/local/lib/python3.11/dist-packages (from nltk) (4.67.1)\n",
            "Requirement already satisfied: spacy-legacy<3.1.0,>=3.0.11 in /usr/local/lib/python3.11/dist-packages (from spacy) (3.0.12)\n",
            "Requirement already satisfied: spacy-loggers<2.0.0,>=1.0.0 in /usr/local/lib/python3.11/dist-packages (from spacy) (1.0.5)\n",
            "Requirement already satisfied: murmurhash<1.1.0,>=0.28.0 in /usr/local/lib/python3.11/dist-packages (from spacy) (1.0.12)\n",
            "Requirement already satisfied: cymem<2.1.0,>=2.0.2 in /usr/local/lib/python3.11/dist-packages (from spacy) (2.0.11)\n",
            "Requirement already satisfied: preshed<3.1.0,>=3.0.2 in /usr/local/lib/python3.11/dist-packages (from spacy) (3.0.9)\n",
            "Requirement already satisfied: thinc<8.4.0,>=8.3.4 in /usr/local/lib/python3.11/dist-packages (from spacy) (8.3.4)\n",
            "Requirement already satisfied: wasabi<1.2.0,>=0.9.1 in /usr/local/lib/python3.11/dist-packages (from spacy) (1.1.3)\n",
            "Requirement already satisfied: srsly<3.0.0,>=2.4.3 in /usr/local/lib/python3.11/dist-packages (from spacy) (2.5.1)\n",
            "Requirement already satisfied: catalogue<2.1.0,>=2.0.6 in /usr/local/lib/python3.11/dist-packages (from spacy) (2.0.10)\n",
            "Requirement already satisfied: weasel<0.5.0,>=0.1.0 in /usr/local/lib/python3.11/dist-packages (from spacy) (0.4.1)\n",
            "Requirement already satisfied: typer<1.0.0,>=0.3.0 in /usr/local/lib/python3.11/dist-packages (from spacy) (0.15.2)\n",
            "Requirement already satisfied: numpy>=1.19.0 in /usr/local/lib/python3.11/dist-packages (from spacy) (2.0.2)\n",
            "Requirement already satisfied: pydantic!=1.8,!=1.8.1,<3.0.0,>=1.7.4 in /usr/local/lib/python3.11/dist-packages (from spacy) (2.10.6)\n",
            "Requirement already satisfied: jinja2 in /usr/local/lib/python3.11/dist-packages (from spacy) (3.1.6)\n",
            "Requirement already satisfied: setuptools in /usr/local/lib/python3.11/dist-packages (from spacy) (75.1.0)\n",
            "Requirement already satisfied: packaging>=20.0 in /usr/local/lib/python3.11/dist-packages (from spacy) (24.2)\n",
            "Requirement already satisfied: langcodes<4.0.0,>=3.2.0 in /usr/local/lib/python3.11/dist-packages (from spacy) (3.5.0)\n",
            "Collecting starlette<0.47.0,>=0.40.0 (from fastapi)\n",
            "  Downloading starlette-0.46.1-py3-none-any.whl.metadata (6.2 kB)\n",
            "Requirement already satisfied: h11>=0.8 in /usr/local/lib/python3.11/dist-packages (from uvicorn) (0.14.0)\n",
            "Requirement already satisfied: altair<6,>=4.0 in /usr/local/lib/python3.11/dist-packages (from streamlit) (5.5.0)\n",
            "Requirement already satisfied: blinker<2,>=1.0.0 in /usr/local/lib/python3.11/dist-packages (from streamlit) (1.9.0)\n",
            "Requirement already satisfied: cachetools<6,>=4.0 in /usr/local/lib/python3.11/dist-packages (from streamlit) (5.5.2)\n",
            "Requirement already satisfied: pandas<3,>=1.4.0 in /usr/local/lib/python3.11/dist-packages (from streamlit) (2.2.2)\n",
            "Requirement already satisfied: pillow<12,>=7.1.0 in /usr/local/lib/python3.11/dist-packages (from streamlit) (11.1.0)\n",
            "Requirement already satisfied: protobuf<6,>=3.20 in /usr/local/lib/python3.11/dist-packages (from streamlit) (5.29.3)\n",
            "Requirement already satisfied: pyarrow>=7.0 in /usr/local/lib/python3.11/dist-packages (from streamlit) (18.1.0)\n",
            "Requirement already satisfied: tenacity<10,>=8.1.0 in /usr/local/lib/python3.11/dist-packages (from streamlit) (9.0.0)\n",
            "Requirement already satisfied: toml<2,>=0.10.1 in /usr/local/lib/python3.11/dist-packages (from streamlit) (0.10.2)\n",
            "Collecting watchdog<7,>=2.1.5 (from streamlit)\n",
            "  Downloading watchdog-6.0.0-py3-none-manylinux2014_x86_64.whl.metadata (44 kB)\n",
            "\u001b[2K     \u001b[90m━━━━━━━━━━━━━━━━━━━━━━━━━━━━━━━━━━━━━━━━\u001b[0m \u001b[32m44.3/44.3 kB\u001b[0m \u001b[31m991.0 kB/s\u001b[0m eta \u001b[36m0:00:00\u001b[0m\n",
            "\u001b[?25hRequirement already satisfied: gitpython!=3.1.19,<4,>=3.0.7 in /usr/local/lib/python3.11/dist-packages (from streamlit) (3.1.44)\n",
            "Collecting pydeck<1,>=0.8.0b4 (from streamlit)\n",
            "  Downloading pydeck-0.9.1-py2.py3-none-any.whl.metadata (4.1 kB)\n",
            "Requirement already satisfied: tornado<7,>=6.0.3 in /usr/local/lib/python3.11/dist-packages (from streamlit) (6.4.2)\n",
            "Requirement already satisfied: jsonschema>=3.0 in /usr/local/lib/python3.11/dist-packages (from altair<6,>=4.0->streamlit) (4.23.0)\n",
            "Requirement already satisfied: narwhals>=1.14.2 in /usr/local/lib/python3.11/dist-packages (from altair<6,>=4.0->streamlit) (1.31.0)\n",
            "Requirement already satisfied: gitdb<5,>=4.0.1 in /usr/local/lib/python3.11/dist-packages (from gitpython!=3.1.19,<4,>=3.0.7->streamlit) (4.0.12)\n",
            "Requirement already satisfied: language-data>=1.2 in /usr/local/lib/python3.11/dist-packages (from langcodes<4.0.0,>=3.2.0->spacy) (1.3.0)\n",
            "Requirement already satisfied: python-dateutil>=2.8.2 in /usr/local/lib/python3.11/dist-packages (from pandas<3,>=1.4.0->streamlit) (2.8.2)\n",
            "Requirement already satisfied: pytz>=2020.1 in /usr/local/lib/python3.11/dist-packages (from pandas<3,>=1.4.0->streamlit) (2025.1)\n",
            "Requirement already satisfied: tzdata>=2022.7 in /usr/local/lib/python3.11/dist-packages (from pandas<3,>=1.4.0->streamlit) (2025.1)\n",
            "Requirement already satisfied: annotated-types>=0.6.0 in /usr/local/lib/python3.11/dist-packages (from pydantic!=1.8,!=1.8.1,<3.0.0,>=1.7.4->spacy) (0.7.0)\n",
            "Requirement already satisfied: pydantic-core==2.27.2 in /usr/local/lib/python3.11/dist-packages (from pydantic!=1.8,!=1.8.1,<3.0.0,>=1.7.4->spacy) (2.27.2)\n",
            "Requirement already satisfied: MarkupSafe>=2.0 in /usr/local/lib/python3.11/dist-packages (from jinja2->spacy) (3.0.2)\n",
            "Requirement already satisfied: anyio<5,>=3.6.2 in /usr/local/lib/python3.11/dist-packages (from starlette<0.47.0,>=0.40.0->fastapi) (4.9.0)\n",
            "Requirement already satisfied: blis<1.3.0,>=1.2.0 in /usr/local/lib/python3.11/dist-packages (from thinc<8.4.0,>=8.3.4->spacy) (1.2.0)\n",
            "Requirement already satisfied: confection<1.0.0,>=0.0.1 in /usr/local/lib/python3.11/dist-packages (from thinc<8.4.0,>=8.3.4->spacy) (0.1.5)\n",
            "Requirement already satisfied: shellingham>=1.3.0 in /usr/local/lib/python3.11/dist-packages (from typer<1.0.0,>=0.3.0->spacy) (1.5.4)\n",
            "Requirement already satisfied: rich>=10.11.0 in /usr/local/lib/python3.11/dist-packages (from typer<1.0.0,>=0.3.0->spacy) (13.9.4)\n",
            "Requirement already satisfied: cloudpathlib<1.0.0,>=0.7.0 in /usr/local/lib/python3.11/dist-packages (from weasel<0.5.0,>=0.1.0->spacy) (0.21.0)\n",
            "Requirement already satisfied: smart-open<8.0.0,>=5.2.1 in /usr/local/lib/python3.11/dist-packages (from weasel<0.5.0,>=0.1.0->spacy) (7.1.0)\n",
            "Requirement already satisfied: sniffio>=1.1 in /usr/local/lib/python3.11/dist-packages (from anyio<5,>=3.6.2->starlette<0.47.0,>=0.40.0->fastapi) (1.3.1)\n",
            "Requirement already satisfied: smmap<6,>=3.0.1 in /usr/local/lib/python3.11/dist-packages (from gitdb<5,>=4.0.1->gitpython!=3.1.19,<4,>=3.0.7->streamlit) (5.0.2)\n",
            "Requirement already satisfied: attrs>=22.2.0 in /usr/local/lib/python3.11/dist-packages (from jsonschema>=3.0->altair<6,>=4.0->streamlit) (25.3.0)\n",
            "Requirement already satisfied: jsonschema-specifications>=2023.03.6 in /usr/local/lib/python3.11/dist-packages (from jsonschema>=3.0->altair<6,>=4.0->streamlit) (2024.10.1)\n",
            "Requirement already satisfied: referencing>=0.28.4 in /usr/local/lib/python3.11/dist-packages (from jsonschema>=3.0->altair<6,>=4.0->streamlit) (0.36.2)\n",
            "Requirement already satisfied: rpds-py>=0.7.1 in /usr/local/lib/python3.11/dist-packages (from jsonschema>=3.0->altair<6,>=4.0->streamlit) (0.23.1)\n",
            "Requirement already satisfied: marisa-trie>=1.1.0 in /usr/local/lib/python3.11/dist-packages (from language-data>=1.2->langcodes<4.0.0,>=3.2.0->spacy) (1.2.1)\n",
            "Requirement already satisfied: six>=1.5 in /usr/local/lib/python3.11/dist-packages (from python-dateutil>=2.8.2->pandas<3,>=1.4.0->streamlit) (1.17.0)\n",
            "Requirement already satisfied: markdown-it-py>=2.2.0 in /usr/local/lib/python3.11/dist-packages (from rich>=10.11.0->typer<1.0.0,>=0.3.0->spacy) (3.0.0)\n",
            "Requirement already satisfied: pygments<3.0.0,>=2.13.0 in /usr/local/lib/python3.11/dist-packages (from rich>=10.11.0->typer<1.0.0,>=0.3.0->spacy) (2.18.0)\n",
            "Requirement already satisfied: wrapt in /usr/local/lib/python3.11/dist-packages (from smart-open<8.0.0,>=5.2.1->weasel<0.5.0,>=0.1.0->spacy) (1.17.2)\n",
            "Requirement already satisfied: mdurl~=0.1 in /usr/local/lib/python3.11/dist-packages (from markdown-it-py>=2.2.0->rich>=10.11.0->typer<1.0.0,>=0.3.0->spacy) (0.1.2)\n",
            "Downloading gTTS-2.5.4-py3-none-any.whl (29 kB)\n",
            "Downloading fastapi-0.115.11-py3-none-any.whl (94 kB)\n",
            "\u001b[2K   \u001b[90m━━━━━━━━━━━━━━━━━━━━━━━━━━━━━━━━━━━━━━━━\u001b[0m \u001b[32m94.9/94.9 kB\u001b[0m \u001b[31m5.7 MB/s\u001b[0m eta \u001b[36m0:00:00\u001b[0m\n",
            "\u001b[?25hDownloading uvicorn-0.34.0-py3-none-any.whl (62 kB)\n",
            "\u001b[2K   \u001b[90m━━━━━━━━━━━━━━━━━━━━━━━━━━━━━━━━━━━━━━━━\u001b[0m \u001b[32m62.3/62.3 kB\u001b[0m \u001b[31m3.9 MB/s\u001b[0m eta \u001b[36m0:00:00\u001b[0m\n",
            "\u001b[?25hDownloading streamlit-1.43.2-py2.py3-none-any.whl (9.7 MB)\n",
            "\u001b[2K   \u001b[90m━━━━━━━━━━━━━━━━━━━━━━━━━━━━━━━━━━━━━━━━\u001b[0m \u001b[32m9.7/9.7 MB\u001b[0m \u001b[31m55.5 MB/s\u001b[0m eta \u001b[36m0:00:00\u001b[0m\n",
            "\u001b[?25hDownloading pydeck-0.9.1-py2.py3-none-any.whl (6.9 MB)\n",
            "\u001b[2K   \u001b[90m━━━━━━━━━━━━━━━━━━━━━━━━━━━━━━━━━━━━━━━━\u001b[0m \u001b[32m6.9/6.9 MB\u001b[0m \u001b[31m69.1 MB/s\u001b[0m eta \u001b[36m0:00:00\u001b[0m\n",
            "\u001b[?25hDownloading starlette-0.46.1-py3-none-any.whl (71 kB)\n",
            "\u001b[2K   \u001b[90m━━━━━━━━━━━━━━━━━━━━━━━━━━━━━━━━━━━━━━━━\u001b[0m \u001b[32m72.0/72.0 kB\u001b[0m \u001b[31m4.7 MB/s\u001b[0m eta \u001b[36m0:00:00\u001b[0m\n",
            "\u001b[?25hDownloading watchdog-6.0.0-py3-none-manylinux2014_x86_64.whl (79 kB)\n",
            "\u001b[2K   \u001b[90m━━━━━━━━━━━━━━━━━━━━━━━━━━━━━━━━━━━━━━━━\u001b[0m \u001b[32m79.1/79.1 kB\u001b[0m \u001b[31m5.0 MB/s\u001b[0m eta \u001b[36m0:00:00\u001b[0m\n",
            "\u001b[?25hInstalling collected packages: watchdog, uvicorn, starlette, pydeck, gtts, fastapi, streamlit\n",
            "Successfully installed fastapi-0.115.11 gtts-2.5.4 pydeck-0.9.1 starlette-0.46.1 streamlit-1.43.2 uvicorn-0.34.0 watchdog-6.0.0\n"
          ]
        }
      ],
      "source": [
        "pip install beautifulsoup4 requests nltk spacy gtts fastapi uvicorn streamlit\n"
      ]
    },
    {
      "cell_type": "code",
      "source": [
        "!pip install streamlit"
      ],
      "metadata": {
        "colab": {
          "base_uri": "https://localhost:8080/"
        },
        "id": "I-rQWcUvtviS",
        "outputId": "45c03f1b-24d6-4044-ef8f-5a51b75aac73"
      },
      "execution_count": null,
      "outputs": [
        {
          "output_type": "stream",
          "name": "stdout",
          "text": [
            "Collecting streamlit\n",
            "  Downloading streamlit-1.43.2-py2.py3-none-any.whl.metadata (8.9 kB)\n",
            "Requirement already satisfied: altair<6,>=4.0 in /usr/local/lib/python3.11/dist-packages (from streamlit) (5.5.0)\n",
            "Requirement already satisfied: blinker<2,>=1.0.0 in /usr/local/lib/python3.11/dist-packages (from streamlit) (1.9.0)\n",
            "Requirement already satisfied: cachetools<6,>=4.0 in /usr/local/lib/python3.11/dist-packages (from streamlit) (5.5.2)\n",
            "Requirement already satisfied: click<9,>=7.0 in /usr/local/lib/python3.11/dist-packages (from streamlit) (8.1.8)\n",
            "Requirement already satisfied: numpy<3,>=1.23 in /usr/local/lib/python3.11/dist-packages (from streamlit) (2.0.2)\n",
            "Requirement already satisfied: packaging<25,>=20 in /usr/local/lib/python3.11/dist-packages (from streamlit) (24.2)\n",
            "Requirement already satisfied: pandas<3,>=1.4.0 in /usr/local/lib/python3.11/dist-packages (from streamlit) (2.2.2)\n",
            "Requirement already satisfied: pillow<12,>=7.1.0 in /usr/local/lib/python3.11/dist-packages (from streamlit) (11.1.0)\n",
            "Requirement already satisfied: protobuf<6,>=3.20 in /usr/local/lib/python3.11/dist-packages (from streamlit) (5.29.3)\n",
            "Requirement already satisfied: pyarrow>=7.0 in /usr/local/lib/python3.11/dist-packages (from streamlit) (18.1.0)\n",
            "Requirement already satisfied: requests<3,>=2.27 in /usr/local/lib/python3.11/dist-packages (from streamlit) (2.32.3)\n",
            "Requirement already satisfied: tenacity<10,>=8.1.0 in /usr/local/lib/python3.11/dist-packages (from streamlit) (9.0.0)\n",
            "Requirement already satisfied: toml<2,>=0.10.1 in /usr/local/lib/python3.11/dist-packages (from streamlit) (0.10.2)\n",
            "Requirement already satisfied: typing-extensions<5,>=4.4.0 in /usr/local/lib/python3.11/dist-packages (from streamlit) (4.12.2)\n",
            "Collecting watchdog<7,>=2.1.5 (from streamlit)\n",
            "  Downloading watchdog-6.0.0-py3-none-manylinux2014_x86_64.whl.metadata (44 kB)\n",
            "\u001b[2K     \u001b[90m━━━━━━━━━━━━━━━━━━━━━━━━━━━━━━━━━━━━━━━━\u001b[0m \u001b[32m44.3/44.3 kB\u001b[0m \u001b[31m1.7 MB/s\u001b[0m eta \u001b[36m0:00:00\u001b[0m\n",
            "\u001b[?25hRequirement already satisfied: gitpython!=3.1.19,<4,>=3.0.7 in /usr/local/lib/python3.11/dist-packages (from streamlit) (3.1.44)\n",
            "Collecting pydeck<1,>=0.8.0b4 (from streamlit)\n",
            "  Downloading pydeck-0.9.1-py2.py3-none-any.whl.metadata (4.1 kB)\n",
            "Requirement already satisfied: tornado<7,>=6.0.3 in /usr/local/lib/python3.11/dist-packages (from streamlit) (6.4.2)\n",
            "Requirement already satisfied: jinja2 in /usr/local/lib/python3.11/dist-packages (from altair<6,>=4.0->streamlit) (3.1.6)\n",
            "Requirement already satisfied: jsonschema>=3.0 in /usr/local/lib/python3.11/dist-packages (from altair<6,>=4.0->streamlit) (4.23.0)\n",
            "Requirement already satisfied: narwhals>=1.14.2 in /usr/local/lib/python3.11/dist-packages (from altair<6,>=4.0->streamlit) (1.31.0)\n",
            "Requirement already satisfied: gitdb<5,>=4.0.1 in /usr/local/lib/python3.11/dist-packages (from gitpython!=3.1.19,<4,>=3.0.7->streamlit) (4.0.12)\n",
            "Requirement already satisfied: python-dateutil>=2.8.2 in /usr/local/lib/python3.11/dist-packages (from pandas<3,>=1.4.0->streamlit) (2.8.2)\n",
            "Requirement already satisfied: pytz>=2020.1 in /usr/local/lib/python3.11/dist-packages (from pandas<3,>=1.4.0->streamlit) (2025.1)\n",
            "Requirement already satisfied: tzdata>=2022.7 in /usr/local/lib/python3.11/dist-packages (from pandas<3,>=1.4.0->streamlit) (2025.1)\n",
            "Requirement already satisfied: charset-normalizer<4,>=2 in /usr/local/lib/python3.11/dist-packages (from requests<3,>=2.27->streamlit) (3.4.1)\n",
            "Requirement already satisfied: idna<4,>=2.5 in /usr/local/lib/python3.11/dist-packages (from requests<3,>=2.27->streamlit) (3.10)\n",
            "Requirement already satisfied: urllib3<3,>=1.21.1 in /usr/local/lib/python3.11/dist-packages (from requests<3,>=2.27->streamlit) (2.3.0)\n",
            "Requirement already satisfied: certifi>=2017.4.17 in /usr/local/lib/python3.11/dist-packages (from requests<3,>=2.27->streamlit) (2025.1.31)\n",
            "Requirement already satisfied: smmap<6,>=3.0.1 in /usr/local/lib/python3.11/dist-packages (from gitdb<5,>=4.0.1->gitpython!=3.1.19,<4,>=3.0.7->streamlit) (5.0.2)\n",
            "Requirement already satisfied: MarkupSafe>=2.0 in /usr/local/lib/python3.11/dist-packages (from jinja2->altair<6,>=4.0->streamlit) (3.0.2)\n",
            "Requirement already satisfied: attrs>=22.2.0 in /usr/local/lib/python3.11/dist-packages (from jsonschema>=3.0->altair<6,>=4.0->streamlit) (25.3.0)\n",
            "Requirement already satisfied: jsonschema-specifications>=2023.03.6 in /usr/local/lib/python3.11/dist-packages (from jsonschema>=3.0->altair<6,>=4.0->streamlit) (2024.10.1)\n",
            "Requirement already satisfied: referencing>=0.28.4 in /usr/local/lib/python3.11/dist-packages (from jsonschema>=3.0->altair<6,>=4.0->streamlit) (0.36.2)\n",
            "Requirement already satisfied: rpds-py>=0.7.1 in /usr/local/lib/python3.11/dist-packages (from jsonschema>=3.0->altair<6,>=4.0->streamlit) (0.23.1)\n",
            "Requirement already satisfied: six>=1.5 in /usr/local/lib/python3.11/dist-packages (from python-dateutil>=2.8.2->pandas<3,>=1.4.0->streamlit) (1.17.0)\n",
            "Downloading streamlit-1.43.2-py2.py3-none-any.whl (9.7 MB)\n",
            "\u001b[2K   \u001b[90m━━━━━━━━━━━━━━━━━━━━━━━━━━━━━━━━━━━━━━━━\u001b[0m \u001b[32m9.7/9.7 MB\u001b[0m \u001b[31m63.0 MB/s\u001b[0m eta \u001b[36m0:00:00\u001b[0m\n",
            "\u001b[?25hDownloading pydeck-0.9.1-py2.py3-none-any.whl (6.9 MB)\n",
            "\u001b[2K   \u001b[90m━━━━━━━━━━━━━━━━━━━━━━━━━━━━━━━━━━━━━━━━\u001b[0m \u001b[32m6.9/6.9 MB\u001b[0m \u001b[31m91.6 MB/s\u001b[0m eta \u001b[36m0:00:00\u001b[0m\n",
            "\u001b[?25hDownloading watchdog-6.0.0-py3-none-manylinux2014_x86_64.whl (79 kB)\n",
            "\u001b[2K   \u001b[90m━━━━━━━━━━━━━━━━━━━━━━━━━━━━━━━━━━━━━━━━\u001b[0m \u001b[32m79.1/79.1 kB\u001b[0m \u001b[31m6.2 MB/s\u001b[0m eta \u001b[36m0:00:00\u001b[0m\n",
            "\u001b[?25hInstalling collected packages: watchdog, pydeck, streamlit\n",
            "Successfully installed pydeck-0.9.1 streamlit-1.43.2 watchdog-6.0.0\n"
          ]
        }
      ]
    },
    {
      "cell_type": "code",
      "execution_count": null,
      "metadata": {
        "colab": {
          "base_uri": "https://localhost:8080/"
        },
        "id": "prbQ9-4-ZAMg",
        "outputId": "709b7ab7-2140-4e7c-9ad4-a60fbfafdba7"
      },
      "outputs": [
        {
          "name": "stdout",
          "output_type": "stream",
          "text": [
            "Collecting feedparser\n",
            "  Downloading feedparser-6.0.11-py3-none-any.whl.metadata (2.4 kB)\n",
            "Collecting sgmllib3k (from feedparser)\n",
            "  Downloading sgmllib3k-1.0.0.tar.gz (5.8 kB)\n",
            "  Preparing metadata (setup.py) ... \u001b[?25l\u001b[?25hdone\n",
            "Downloading feedparser-6.0.11-py3-none-any.whl (81 kB)\n",
            "\u001b[2K   \u001b[90m━━━━━━━━━━━━━━━━━━━━━━━━━━━━━━━━━━━━━━━━\u001b[0m \u001b[32m81.3/81.3 kB\u001b[0m \u001b[31m2.0 MB/s\u001b[0m eta \u001b[36m0:00:00\u001b[0m\n",
            "\u001b[?25hBuilding wheels for collected packages: sgmllib3k\n",
            "  Building wheel for sgmllib3k (setup.py) ... \u001b[?25l\u001b[?25hdone\n",
            "  Created wheel for sgmllib3k: filename=sgmllib3k-1.0.0-py3-none-any.whl size=6047 sha256=2d305bd64b90565411f46d7b23269930b154325f2ea66c3a1f3f031096afa952\n",
            "  Stored in directory: /root/.cache/pip/wheels/3b/25/2a/105d6a15df6914f4d15047691c6c28f9052cc1173e40285d03\n",
            "Successfully built sgmllib3k\n",
            "Installing collected packages: sgmllib3k, feedparser\n",
            "Successfully installed feedparser-6.0.11 sgmllib3k-1.0.0\n"
          ]
        }
      ],
      "source": [
        "pip install feedparser\n"
      ]
    },
    {
      "cell_type": "markdown",
      "metadata": {
        "id": "A4FIcVm7Y2do"
      },
      "source": [
        "**1.2 Download NLP Models**"
      ]
    },
    {
      "cell_type": "code",
      "execution_count": null,
      "metadata": {
        "colab": {
          "base_uri": "https://localhost:8080/"
        },
        "id": "hbAWwmJSYy1L",
        "outputId": "4ec8f25e-ac3c-4046-a819-eea106c5a624"
      },
      "outputs": [
        {
          "name": "stdout",
          "output_type": "stream",
          "text": [
            "Collecting en-core-web-sm==3.8.0\n",
            "  Downloading https://github.com/explosion/spacy-models/releases/download/en_core_web_sm-3.8.0/en_core_web_sm-3.8.0-py3-none-any.whl (12.8 MB)\n",
            "\u001b[2K     \u001b[90m━━━━━━━━━━━━━━━━━━━━━━━━━━━━━━━━━━━━━━━━\u001b[0m \u001b[32m12.8/12.8 MB\u001b[0m \u001b[31m86.3 MB/s\u001b[0m eta \u001b[36m0:00:00\u001b[0m\n",
            "\u001b[?25h\u001b[38;5;2m✔ Download and installation successful\u001b[0m\n",
            "You can now load the package via spacy.load('en_core_web_sm')\n",
            "\u001b[38;5;3m⚠ Restart to reload dependencies\u001b[0m\n",
            "If you are in a Jupyter or Colab notebook, you may need to restart Python in\n",
            "order to load all the package's dependencies. You can do this by selecting the\n",
            "'Restart kernel' or 'Restart runtime' option.\n"
          ]
        }
      ],
      "source": [
        "!python -m spacy download en_core_web_sm"
      ]
    },
    {
      "cell_type": "markdown",
      "metadata": {
        "id": "6ftWWKLNZRSk"
      },
      "source": [
        "## **Step 2: Extract News Articles**"
      ]
    },
    {
      "cell_type": "markdown",
      "metadata": {
        "id": "meY-CVC6Zipl"
      },
      "source": [
        "**2.1 Code to Scrape News**"
      ]
    },
    {
      "cell_type": "code",
      "execution_count": null,
      "metadata": {
        "colab": {
          "base_uri": "https://localhost:8080/"
        },
        "id": "uscHBJDOZPei",
        "outputId": "0dbbb2d7-d5c6-49a8-d5af-dfa8216647f2"
      },
      "outputs": [
        {
          "name": "stdout",
          "output_type": "stream",
          "text": [
            "1. Assassin’s Creed Shadows could be GOTY after historic 1M player launch - The Times of India\n",
            "   Summary: <ol><li><a href=\"https://news.google.com/rss/articles/CBMi5gFBVV95cUxOWTdnbkhHZGxYSzRKLXRHaVktRkpsbWVuREVoaU43UDBLMWtPTVkweGtCOW1NM1VzcEN3S3J1TkRvd0NLY0JSbG11RFhLQ002Z1NjNG5sRnlvd1F1NlJpOXJ6amdJLTNZZEU5b3JBUUNSMmJJOXA0X09PNmRHNHZqSlZyZ2s3cU81WENBWFJaelhwbTJHLU05UzVNeUZOeVcyVURySXNQUGxBTjJSZHhvbHBUQTI1cHMzZEs4eTFITHc1X1pSXzNNMktHbjJ0Tm5xVF9Od3Y4OWJ6NlVVMjdtV1RZUEFNZ9IB6wFBVV95cUxNZkVNQ0xaYzhfZjhULUh0cmFOOTk5MU5pcGlJWlB3VC1jTFVINnM0QklNcXl3QWszSjhwU1p6eW5PcV9WcFJkSzhBbzFoNWc3MF9oZHFyT2ZqZWE1b0NvaFNlbzlvenltazgtRGVTanF2bXlEa05qT01nVzlDb0daUXExSWxKUXQwWENEb2s2VTRlZXNKR2RULW9wXzVnNVdnT2FnaGFQdDRHdmxFMDRYcXFHQ3VFY0ttaTlIeHgwcFExRERUS0tTSVZTaU1ZWG13d3BLbkdzZFR6bkhNTHZtazBqb2JoWlkzWDVv?oc=5\" target=\"_blank\">Assassin’s Creed Shadows could be GOTY after historic 1M player launch</a>&nbsp;&nbsp;<font color=\"#6f6f6f\">The Times of India</font></li><li><a href=\"https://news.google.com/rss/articles/CBMihAJBVV95cUxNNmpTa1d3MHJoUVVZWHVxR0xNWG05RzU5OEUyWkdoUl9YSWd4QS1kV2tqRnhGVlZfN3FNc25uTWxmWmhBV0lRZGhWT0Q1QnVOSVhXLUwzTGxaMTRLR3Y3anVaSjFCQUhVOWNXbHpIQ0JMRDZ0ZGxJSlJ3dHNzQVVpZHNIazNYLU13TDVWN01rMzRuYl9ZYmp0M3g2eXlIa0lpT1k3M2RNaEdiZ3ZVYTU1aXFWWEV6SGV3dUZGNHBObkpnWTNUb1NzOXNzTTlYWFJsSW9XcXBrRmJrVnBZN3N3WUQ3Q1ZmNTNsWUNseU91Q28wV09ITjdCcTE5Q3lHZUU3YjZQRw?oc=5\" target=\"_blank\">Amid Japan Concern About Assassin's Creed Shadows, Ubisoft Confirms Day-One Patch That Makes Tables and Racks in Temples and Shrines Indestructible</a>&nbsp;&nbsp;<font color=\"#6f6f6f\">IGN</font></li><li><a href=\"https://news.google.com/rss/articles/CBMiwAFBVV95cUxNUDFtOHpYYWRUSWdqQmEyMTlPVWNEbVpoVkl0cEJZMTJrUUp0RXl5OUhZVjVOT0s4R3NKU3EzYWZTbzVPUlpPaHoyV0RyaUptZW9GVUNFZjdXUVpkSXF0VDJobEpwUVZwOUhBMHlzeXp1b0t0YjdCdkhOVWNOMExuMjc5czJyaVp0a0dYMGpoQ2N5SXdFRUxvLVJybjFtZTFfTlFtdmZVWnRXQmVIWVFfQU5QOEF6M0RkTmtvZmhKQUzSAccBQVVfeXFMUHU2R050c0JkQXY3VUl5WWF5YUJnT0dGSmJKcXNwWV9fMHdEeThsc21YdFBLNDRVbG9qLTZLQmg0SlJjMDhqaGsyMl84UTU5Tk1YUENMbncxSmlUdmgyTmVVSGRhWFR4Z3cwWGZSMDJ5MEowTUVGUGpiMjBFTW9OaWo3a24xQUpDR3BTcnphUU5pMkt2ZGxIR3dRZ1dncGFsbWlnOEgzekRIMzZLZ01ldkpsUUU1ZlRQQUZ0VWhCRFE3U2JaSkpTQQ?oc=5\" target=\"_blank\">‘Assassin’s Creed’ hits shelves; Europe games industry on edge</a>&nbsp;&nbsp;<font color=\"#6f6f6f\">The Hindu</font></li><li><a href=\"https://news.google.com/rss/articles/CBMikAFBVV95cUxNb3VlSWpLLWRnREtNdnlTa1JFM1N6T0M2VlNlcW5SY1dzZmZEUk5JWUVwSmRlRHh2aHI4ZjNaQkVWRmt3UnVaRTNOT2lHbUJqTHR1UFNhV0pySWpxM3BmSHZCWnVEVXVLMm5hQkVHQl9aWVFGczFScGx3MTNfanQ4S01aay1mVTNPcExKcGVzQzI?oc=5\" target=\"_blank\">Photo Mode is my new gaming obsession</a>&nbsp;&nbsp;<font color=\"#6f6f6f\">The Verge</font></li></ol>\n",
            "   Link: https://news.google.com/rss/articles/CBMi5gFBVV95cUxOWTdnbkhHZGxYSzRKLXRHaVktRkpsbWVuREVoaU43UDBLMWtPTVkweGtCOW1NM1VzcEN3S3J1TkRvd0NLY0JSbG11RFhLQ002Z1NjNG5sRnlvd1F1NlJpOXJ6amdJLTNZZEU5b3JBUUNSMmJJOXA0X09PNmRHNHZqSlZyZ2s3cU81WENBWFJaelhwbTJHLU05UzVNeUZOeVcyVURySXNQUGxBTjJSZHhvbHBUQTI1cHMzZEs4eTFITHc1X1pSXzNNMktHbjJ0Tm5xVF9Od3Y4OWJ6NlVVMjdtV1RZUEFNZ9IB6wFBVV95cUxNZkVNQ0xaYzhfZjhULUh0cmFOOTk5MU5pcGlJWlB3VC1jTFVINnM0QklNcXl3QWszSjhwU1p6eW5PcV9WcFJkSzhBbzFoNWc3MF9oZHFyT2ZqZWE1b0NvaFNlbzlvenltazgtRGVTanF2bXlEa05qT01nVzlDb0daUXExSWxKUXQwWENEb2s2VTRlZXNKR2RULW9wXzVnNVdnT2FnaGFQdDRHdmxFMDRYcXFHQ3VFY0ttaTlIeHgwcFExRERUS0tTSVZTaU1ZWG13d3BLbkdzZFR6bkhNTHZtazBqb2JoWlkzWDVv?oc=5\n",
            "--------------------------------------------------------------------------------\n",
            "2. Garena Free Fire MAX redeem codes for March 23: Win free diamonds, weapons, skins, and more - The Times of India\n",
            "   Summary: <ol><li><a href=\"https://news.google.com/rss/articles/CBMi-wFBVV95cUxNOVFXbmJ5dHM0Qy1vZzR3ZVM4NUFob212R2VEb2VPWjV3ZjhsRTVBRGNUemNhbFNlbTRyeGR6Z3kyaThHajhadk52Y2hNOUx3M1NBM1drd0x4a1B6a21zWGk0STl2elNqQy03X0x4b0lDY1MtQ3FTY2lVbzFiX2RIOU5tdnM5bEFSMm1TWkNtM2pTRmliVEk5V3EwVll6eU56MWk5SzE1QXRRdDZidjNwdlpfWUdMei1jYW1iMVVlRVlaSnN6Yk9HMUR3TVlwVVVtSFl5MXYwMTVsNDI4M1Uybjh0dWd2Y3FlQk9NUHlmZHQ4VGpJQk9obEVOQdIBgAJBVV95cUxOaTJEbktDMExiT1dUWVVCLTUyQzRsT0RJampWcF9VbmlMUFVDa2pLNjRzc3pqNTVISjdtWS1PdVQ1ZjdHN2dlbGlDWTZ1Nmp2TW0yUFVmYmFFbHV5bkNFYmFsUGZ6T0wwZzZFOXMyYUg2UGt5N3RfR2JwZVZPb2FwZklNeEpVcFlaS2ZTOGw0QzhBZXBVV3hxM1FtYXRMQzMxVjgwUTlTVDBWRXVkZ25ydVdKU214YURrbGU3bnRQVjlVWEJMeUd2d1ItXzVuc1ZzSzE2Q3E0Z2xaTlVya2ZNRFEwS0hCR2owS2Q0UzdHUmYxWEg2bllSazlYNURKSERL?oc=5\" target=\"_blank\">Garena Free Fire MAX redeem codes for March 23: Win free diamonds, weapons, skins, and more</a>&nbsp;&nbsp;<font color=\"#6f6f6f\">The Times of India</font></li><li><a href=\"https://news.google.com/rss/articles/CBMi4wFBVV95cUxPN20tVURQZTVqNXRGLUhadGFpMHNINlpzbjY0TGdBZHMzVFVZTUdwU05lc2g4MDRFZ3dBcktlLUwwVW5CZk1BOUFOYmdFc3phR29fZUhON0lpMHJEcmE5cW1jRkJoSXZCYTl3OFlXTnViY3dQYlk0OXd1cm5VZ2FVUnpzeGlId3dEYUNHOG12cDBWRUVGMkkwYTA5Sldud1VGSmdLZ212WUhEV1dyX0F5Z2t5RmtGTEtQeFJvd1FmSFdOWS1RWUhZek4xWFM0VU1XNDBsZW84SHZTcnBHSWtrN25LONIB6AFBVV95cUxQMDlPbzNRSDN3bVVyQ0ZreG9WOVN1Z1hBVFVNUGVDMXNfWUJZOG5BMFhUREpDTFFNazcwVm5mdF8yR1B4SWlyV3dteUw1Qk1BOEMtUUxXS2F4NlJUNW9ENHdJLXVGQ041d01fMlZjLU41cXFBd1pVUEx2WlhqRmNzRnRCWms5SGNEOXFFbWFxWG5rekMyT2lPc2dESWh6R2w4dU5lbHJ4cFNiSHBEcF9qNmF0MlZEdWpycGJ4UF9fZDY1SXhXNzZxcm9TcnNLSVY4STFGVEkya2RTYWZ2eXhyVG5WSE1nOGNr?oc=5\" target=\"_blank\">Garena Free Fire Max redeem codes: Win new skins, diamonds, and other rewards for March 19</a>&nbsp;&nbsp;<font color=\"#6f6f6f\">Moneycontrol</font></li><li><a href=\"https://news.google.com/rss/articles/CBMizAFBVV95cUxQZkZmWTJTdUNROEdWMDFHRUdRaXM5cU1mencwSnJRRG91YWJrcWxVZlVjOHZpZUJNa2o3VUQzOEQxZ3JwVE50WWxUYUZ5Z1dqbkM1aEs3X2ozcUQ2Z1NMTS1pZHJhRnpjX2Y1SzNYdVRjc3o0NHJpWG9wTjBmVHVZQ0lMaWt6NFFUaDFfVjljUGFUU0RQSFdBQU9wQWVUSFAzVk9OSGJ6T2RFai13Y1kzclhkYkNRT0lQT2JvamxOT3NXbzRHcmE4RnpfQnLSAdIBQVVfeXFMUGdQZHUzdnFwNXVMRDAtallNUUZtMFNhamdyaGNZY0Nlam9OSzZRR3BHTjJQQW1uVGtKcXZ4ZUxUc2dZcng2WTkwTi1KY2VCQWxsNVVHYk1GSEFJakx2RzlGQ1k0ekNyWXFmMHpzaTFUdGJGeXJTb0V3Wk81R0JidmJoYTZFb0pVZEJkRUJCWUFoQ1Mxb2IwSWRTQWNWT1hfM01VVkxkRGN0NlY0S2JVZXRtSkZBMjhzV3daaUJnSGI2TjVTX1NQaEJTUEExTnZWalpB?oc=5\" target=\"_blank\">Free Fire MAX Redeem Codes for March 22: Unlock skins, diamonds and more</a>&nbsp;&nbsp;<font color=\"#6f6f6f\">India TV News</font></li><li><a href=\"https://news.google.com/rss/articles/CBMi6AFBVV95cUxQMS1sbGx1UExtNUx0TEo2dE4zdjlDVG94dnVzU1AtVXoyZ1dzRjFaeFhUX3dSV2dOS0YtclY4bzd6dUVlTkxwc25MM2gzWmFCV21QdWdGVlVXYUZTTmREbHN6cXE1LTlkem5UcnZ4dlB5U0NwWFZzX2Zjc3d6eXY0SWk4RXZFN3VET1BMNkdIS01SelF6RWpYODRTSmFtZjlqZm0ycGUzbGt5cXhvb0Z0N3dhMU8tWEF5Z1h5VFU2ejVkTEpESEdIS0Vpa1Z2OFlZWGpHQW93ODlWamZ0eUhwYnBsWWo0bzlS?oc=5\" target=\"_blank\">Garena Free Fire MAX Redeem Codes For March 22, 2025: How To Unlock Free Skins, Diamonds, And More</a>&nbsp;&nbsp;<font color=\"#6f6f6f\">HerZindagi English</font></li></ol>\n",
            "   Link: https://news.google.com/rss/articles/CBMi-wFBVV95cUxNOVFXbmJ5dHM0Qy1vZzR3ZVM4NUFob212R2VEb2VPWjV3ZjhsRTVBRGNUemNhbFNlbTRyeGR6Z3kyaThHajhadk52Y2hNOUx3M1NBM1drd0x4a1B6a21zWGk0STl2elNqQy03X0x4b0lDY1MtQ3FTY2lVbzFiX2RIOU5tdnM5bEFSMm1TWkNtM2pTRmliVEk5V3EwVll6eU56MWk5SzE1QXRRdDZidjNwdlpfWUdMei1jYW1iMVVlRVlaSnN6Yk9HMUR3TVlwVVVtSFl5MXYwMTVsNDI4M1Uybjh0dWd2Y3FlQk9NUHlmZHQ4VGpJQk9obEVOQdIBgAJBVV95cUxOaTJEbktDMExiT1dUWVVCLTUyQzRsT0RJampWcF9VbmlMUFVDa2pLNjRzc3pqNTVISjdtWS1PdVQ1ZjdHN2dlbGlDWTZ1Nmp2TW0yUFVmYmFFbHV5bkNFYmFsUGZ6T0wwZzZFOXMyYUg2UGt5N3RfR2JwZVZPb2FwZklNeEpVcFlaS2ZTOGw0QzhBZXBVV3hxM1FtYXRMQzMxVjgwUTlTVDBWRXVkZ25ydVdKU214YURrbGU3bnRQVjlVWEJMeUd2d1ItXzVuc1ZzSzE2Q3E0Z2xaTlVya2ZNRFEwS0hCR2owS2Q0UzdHUmYxWEg2bllSazlYNURKSERL?oc=5\n",
            "--------------------------------------------------------------------------------\n",
            "3. iQOO Z10 drops a bombshell with India’s largest smartphone battery: Check specs here - The Statesman\n",
            "   Summary: <ol><li><a href=\"https://news.google.com/rss/articles/CBMi1AFBVV95cUxNa0dSRHRDTk1mZDhrUTU4a21ic0s1YUZDTUQzY0ZfdjVRQm45ZklNQUtRTWpwRDN4aDNJT0lEZGtZQVNJakIydUl0M3c2aThqUzJyREw3akpObjJGTzQxUjFKU3EzUVVTZkphRmhQek1Gei1vRDhySFVhRGJkQmh5T0V5YXd4SWlqWXdoMFVuTXhUdFRmNVVHdkxDZzNLTG1zN0dBdTVfQ2ljTXk2MEl5NklIMDhqUC1JbUluMW5TZFBIUkFYMDFyRDVsRFlnWDlNd3lVZ9IB2gFBVV95cUxOX25KOUp6WWRMVlVZbUJEYjFOMWFETkEyTkxVczJJYk1PRmQwQzFySTNHbjUxTjhiSUU3Z1JTdEg1MEFYQXZEdkM4TTVuQkxiZXVqTVlBRGh1TEZzLW9hQXNiS3NGcWNaLTlEb3VfREh3NTBPTzFRa05IbElTR0tvUEcwVVhXTXNyRUU5ZG1XbEdCRjRJTmRweXlydmhXcVVuZ1FDRmY5ZFdLQmNlVXY0TFhQWS11UWJScmJoUTRIMnV3RG11TU5zT01DZ05LX3RkY1BSNXN0OG11UQ?oc=5\" target=\"_blank\">iQOO Z10 drops a bombshell with India’s largest smartphone battery: Check specs here</a>&nbsp;&nbsp;<font color=\"#6f6f6f\">The Statesman</font></li><li><a href=\"https://news.google.com/rss/articles/CBMi-AFBVV95cUxQTkc4LWg2Z09oX2g5U3dQRFUwNkJTMG1JWTJGMkRTLV9ma0NRc00yc2pMZklFamdkLXV4RlRVYmpIZUs0cjRFQ1VyZUVjNTU4c0VmaXN5TDZPR2NpYTdZcWtId3B6anpyY0Q5Y001Y2Y1cFpQT1FCX09WTENQTmF2cFN3TVZXLVV3OVlfOU1IYmpMQWN0Smd5YWFVcV9fbm1HYnB2bjNSTG12WjU2TmNveW85R0lZUFIwSzhBWGV4UE9kMEZIWnFOdWhtaUc4Y2Z2amZnWloyUEhIUHlMWENIWmZYRzhmY0F1ZUpBaVNXdGZreDNEdERUetIB_gFBVV95cUxNQy1tejhyTjRrM0ZBa2w2X2w0RXRsUTJjNEpxUExuSi1UTm55bjFFS01WcUU2RjlCN2E0WVAtNVo1Yjc5VVJscVBfaFB3aXBYakFJTXo5Q2tPU0gyTXBXWjRvSXZQa0c5TVlKSkk2dmVrRkJuNGR4QUphS1pNendwYzRPMk1VVEtQMDRVNDdwb1dHYVNLYnhxa3FIMlBIVFFKZTBLVW4wWnVGRFBkaWZzaE01MFZqN3M2d0NYWDZib0VUbjRIdU5hdDJlWGlBeGNnMEJWNHp5UFJOem5YRjktNHdyLVEzMzBodEtsZVROQ1JLRnctVXNzYWRBa3ZZUQ?oc=5\" target=\"_blank\">iQoo Z10 5G to launch in India next month with massive 7300mAh battery: Date, expected price and features</a>&nbsp;&nbsp;<font color=\"#6f6f6f\">Moneycontrol</font></li><li><a href=\"https://news.google.com/rss/articles/CBMizwFBVV95cUxQUEdMU1F5cElSSl9NUU5lZEZoRk5Lbk1NQmVzc2Nza2ZlV1BJdmNfYy1uaU9JN1VVbkw2NEVBZzl3V2tuSi1Hd0RERFFqbGJZRWZYUUp0X3FqaXBaSFY5TUJPU3FnTDdEa2loVHJMSmxTS1FyM0QxZlJQYW4ta0k0V05lQXZPU1lhWWdoMElZVHVWanNEOV8zc1J2a0NtVWpOSS13X0p4djl1by1JUzJheVcxclViNHBIQ0ZwQkZoSFR3cXFmU2J1VVl5dGpXQlXSAdYBQVVfeXFMUFRXbmxobUw3VmNOTjhXbWpRQVoyR0pRcF9zbHRJYzV5TndsZEhjR2xESmVHdjRPdHZ6Wjg4cWd4Qkk1M2owRUwtUUlvSkRvWWJRMHdoT0ZTa05XYjBsd3N3Y3JLeG9YZjlablZ0Q3R1OWZBY2pjYUpISGQ1bWZmOVI0WWRsWWtWWGM0R2hHZWE1Ylplbk1MNGFWQmNIQTlfVTJteWF6a2ptTkotTjFlekM1QVRmeU5CYU1jYXJxdTJ0TkxxeXBCem9nSDlGOFhIWHVqYjFVZw?oc=5\" target=\"_blank\">iQOO Z10 with 7300 mAh battery to launch on April 11 in India</a>&nbsp;&nbsp;<font color=\"#6f6f6f\">The Hindu</font></li><li><a href=\"https://news.google.com/rss/articles/CBMiywFBVV95cUxQNDNVRmMza1gwelNBLTlMS2phaHZRRVdfMUVzRUFIUVp4ZHFnWmJ6X0RxSDhPRWpHNGJxVGhhNzdUb3dkZ29wSkE2NEFUaWdOSXZabWdOT0hmN1JRLXFqcjFkSVliY3JLRU9Jb2c4X1ZQQkhsS2loM2pnT08tSHJ0OWlvTThTMGJ1SGp3bUtnSTUzd0I1VDM4dWVsTkhOeGRBclM1UkZKUTl6aUZuOVZZeEg1VmxtbkM5aEpuRS1TTjFVS2dlWHJITkJBcw?oc=5\" target=\"_blank\">iQOO Neo 10R 5G India Launch Date Officially Announced; Check Expected Specs, Price</a>&nbsp;&nbsp;<font color=\"#6f6f6f\">Zee News</font></li><li><a href=\"https://news.google.com/rss/articles/CBMi7AFBVV95cUxQUHlyQ0FWWDc4b0M5ZThyTVZFMFhkZmktdzJKYVE2LUxLU0EwYW8yMWZuQmotOHBUWUQyRTlURlpMREVPM3RxYmFuNUpNam5uOHRUOUdvdFdQRVlYbFJtcDFjQi10Yk1vMHpoamNPTzlLMXZENU0xUEJhZmRJNm1NRVRDNGN2WlNNcUsyYThaRHFtNlEwZ3NnSnhOaTZtZ05jT0ZHVmNxQmdGZElDTzF4UmlLOXVob2p1eTVfR1ZPYkxhbXhlLTRtb2tYaHhISGVsMk9Xa19EdVBiNFEzVzZ4d19yc0dXVUV4NlFWa9IB8gFBVV95cUxOTzQ0ejlmcXFuUVN1azE0TXhIb3VvQXh2aDh1SzFHVXRnV2tJMVJvUXVCWDJJbFltbWljUS1vR0JlaWdpUk12V01tNFdNbTFJeGpScUxoaVRJLUlQRkN2aVNJVGh2R19mOHFRYnRNdm55Uk9YeTUyRTZRbWtFZmtDbmZodzc1MGtKNUhqbkNEdjFhSDNlS0x6UUtTMDM5TXkwaDgzX2sxck95Y0JfQlNwT25IUGlmc2tCUS1ITXcydy1pcmtJM2NUeTZGQWxGVHV2VnY4dlg2aUhvN2QwS2JLTUhrS193YW4wNXBLTnZ6cnpsQQ?oc=5\" target=\"_blank\">iQOO Z10: Launching with a massive 7,300mAh battery, Snapdragon 7 gen 4 SoC and more—All you need to know</a>&nbsp;&nbsp;<font color=\"#6f6f6f\">ET Now</font></li></ol>\n",
            "   Link: https://news.google.com/rss/articles/CBMi1AFBVV95cUxNa0dSRHRDTk1mZDhrUTU4a21ic0s1YUZDTUQzY0ZfdjVRQm45ZklNQUtRTWpwRDN4aDNJT0lEZGtZQVNJakIydUl0M3c2aThqUzJyREw3akpObjJGTzQxUjFKU3EzUVVTZkphRmhQek1Gei1vRDhySFVhRGJkQmh5T0V5YXd4SWlqWXdoMFVuTXhUdFRmNVVHdkxDZzNLTG1zN0dBdTVfQ2ljTXk2MEl5NklIMDhqUC1JbUluMW5TZFBIUkFYMDFyRDVsRFlnWDlNd3lVZ9IB2gFBVV95cUxOX25KOUp6WWRMVlVZbUJEYjFOMWFETkEyTkxVczJJYk1PRmQwQzFySTNHbjUxTjhiSUU3Z1JTdEg1MEFYQXZEdkM4TTVuQkxiZXVqTVlBRGh1TEZzLW9hQXNiS3NGcWNaLTlEb3VfREh3NTBPTzFRa05IbElTR0tvUEcwVVhXTXNyRUU5ZG1XbEdCRjRJTmRweXlydmhXcVVuZ1FDRmY5ZFdLQmNlVXY0TFhQWS11UWJScmJoUTRIMnV3RG11TU5zT01DZ05LX3RkY1BSNXN0OG11UQ?oc=5\n",
            "--------------------------------------------------------------------------------\n",
            "4. Got an old Android phone? Here’s how to turn it into a Chromecast - Softonic EN\n",
            "   Summary: <a href=\"https://news.google.com/rss/articles/CBMinAFBVV95cUxQb1Jqd2F5Nkpad0txWmk1NnVVdlQ1bmNDUHNMOU9VV2o0UWNDak9KWXhvVTRyRkFCelc5Q092bzFnbDZDcTlEcUZ5cWNtbGcyUkhaOEdFSGdlMkhHZkVnMjJyd2JHY1dDVkhpWXp2N3oybzFfTGYzUEZDb1Q5dEg2M25ZOE1lazlDVWJiX0JVTDZWR2VHTTQ4cm9aYmE?oc=5\" target=\"_blank\">Got an old Android phone? Here’s how to turn it into a Chromecast</a>&nbsp;&nbsp;<font color=\"#6f6f6f\">Softonic EN</font>\n",
            "   Link: https://news.google.com/rss/articles/CBMinAFBVV95cUxQb1Jqd2F5Nkpad0txWmk1NnVVdlQ1bmNDUHNMOU9VV2o0UWNDak9KWXhvVTRyRkFCelc5Q092bzFnbDZDcTlEcUZ5cWNtbGcyUkhaOEdFSGdlMkhHZkVnMjJyd2JHY1dDVkhpWXp2N3oybzFfTGYzUEZDb1Q5dEg2M25ZOE1lazlDVWJiX0JVTDZWR2VHTTQ4cm9aYmE?oc=5\n",
            "--------------------------------------------------------------------------------\n",
            "5. Weekly poll results: the Nothing Phone (3a) is better value for money than its Pro sibling - GSMArena.com news - GSMArena.com\n",
            "   Summary: <ol><li><a href=\"https://news.google.com/rss/articles/CBMixgFBVV95cUxQNTR3Zlg3NHRoM0J2U1A4VVFYQmpDNWdwbzBwR2xjbFlGYkMxQTE1MHdBWXpjcmxPVDZ0aG03U0xBSU1Fak1HNm9BTktMbXRaLUx3QTRSQUVNT3ZoWjRXZHZUQXdEaGpJZ2tMSTE5Q1hhZlhvejhkS3lHMkpYcTI4S2E0OW1OamhiTnVCcjFLVDNhU05BZW9TbUxBWjcyd1M3Tm9GeWNvMHlCRDhnQjlrYjk3RmhjUUJCLUxWNHVFQUY3bXJ2MXfSAcIBQVVfeXFMT3VvYmM5UEpxWHlrMzM1Y25SX0I2M1g4ekZ1RGlxQ2xSRm1NdTY5NzVuWWlieGg3VFFYZkw0LVd0SlR4dnp1bzNMUmtOTnhvQnUzY0tWTWxydThuVFg1WWxwN3pBWGcxWE44UlVQRDM5djFVN1puaVQwaUpzY2NVTXp2M1E1VldLRDdOclctVmwwM0dnX3Q0aHRzUTRidmFOYktSRk5vOHlrR3U4U0RZc091UzQ4aTVOQWFWN184NHQxZEE?oc=5\" target=\"_blank\">Weekly poll results: the Nothing Phone (3a) is better value for money than its Pro sibling - GSMArena.com news</a>&nbsp;&nbsp;<font color=\"#6f6f6f\">GSMArena.com</font></li><li><a href=\"https://news.google.com/rss/articles/CBMirgFBVV95cUxNZTZycXB3dG5LU3FheG40eURSbUpJaV8xc1g5d18yaXV6MUp0ZkJpdjlYSlZnTHZlLVlJOC1RZjc5UzZXVENQYXpUS0M4UElpTTcxeFU0UkViRndsalpuYTNfUEJ2NTcxdDdUMDZKSmJuZ1dEZXMyakE1Y2FrY3NDeWw1V1ZkYjlyZkxnbFRCdHVEYXhSWXROTHZNSGpRMTJ3N1dnMDMzYllrNVlLNHfSAa4BQVVfeXFMTWU2cnFwd3RuS1NxYXhuNHlEUm1KSWlfMXNYOXdfMml1ejFKdGZCaXY5WEpWZ0x2ZS1ZSTgtUWY3OVM2V1RDUGF6VEtDOFBJaU03MXhVNFJFYkZ3bGpabmEzX1BCdjU3MXQ3VDA2SkpibmdXRGVzMmpBNWNha2NzQ3lsNVdWZGI5cmZMZ2xUQnR1RGF4Ull0Tkx2TUhqUTEydzdXZzAzM2JZazVZSzR3?oc=5\" target=\"_blank\">Nothing Phone 3a Pro review in 10 points</a>&nbsp;&nbsp;<font color=\"#6f6f6f\">India Today</font></li><li><a href=\"https://news.google.com/rss/articles/CBMiuwFBVV95cUxNWUhTSkpOb19OZW1vUXFPbXJWLWVWWGpJdjQ3SC04ZGoxLVZ6T2YxOVpBZ29pTlZxbEpfblFUeWE0NUhvWkE1UzVmdlZVdHpwdWtEdUR4d2JZZHhBR3NYdVdiOWpIeGk2MmV0TVhyXzZPS3dTeUVZRjVCOUZRb0FGNnRsN1oyQWN0LXIzLXE1aVhjSkRyd1NIRGVVRjhEZEVkSVlIWnZ1T0ZTQjhaOUFJT3Z0a1l6LVk1X0k4?oc=5\" target=\"_blank\">Nothing Phone (3a) Pro review: Feature-rich phone with cool design</a>&nbsp;&nbsp;<font color=\"#6f6f6f\">Deccan Herald</font></li><li><a href=\"https://news.google.com/rss/articles/CBMiiAJBVV95cUxOZXpraVJwc0JmdXhvYmVQUnY4eWs2Rk9vamhhdnRYV3BrOXJtSzFUakJMY3drV09PSkxRYkdHTGwwbDlvYzgyazZrYW1uRVh0VEJ5VTJNNTVxcjN5UHYzdWVFZ190a1pjbzJDU1FjcGZvM2VDTU5jNWtsUnhtV19xTm9ydG1maF9lOVRSX0dPVU4yaHpMczR2YW81YW5QQTc4eHI3eTBZVjgwZEd0NG1rSnZ5eHNhYzIxOHRRWUU4Ny1DQndreTJaOHhETnNQOU5OTlNyZHFmREI0dWM0eTI2cDF4Nnlfc0lmbk1ETXR0RFlQS2pUanA0QVpWQjc3QjRnZExmUEFmN1A?oc=5\" target=\"_blank\">OnePlus Nord CE 4 vs Nothing Phone 3a: Detailed Comparison – Which Budget Smartphone Should You Buy?</a>&nbsp;&nbsp;<font color=\"#6f6f6f\">MSN</font></li><li><a href=\"https://news.google.com/rss/articles/CBMi1gFBVV95cUxOTldfRUdNYVlhSzRqLXJsTG51cGc2dU5GYlBtZHZzUzZtckRRbHFuNG9XVjNJeHh6anpKaFhjVnlNWURTLWNqTVoyYUItdXduTkVIUmN4YzFLVHZSVkdoR0l4cGtTX1E5Sjc4a2JaVXVXY1ZpMFphUzNzTkZzWmJWazg4VU8xei0xOXdPRUMtVEVYZXZsaG91MWgzYmdnTVlXc3hUZDdXM0ROeTN5LXB0bzRWRjJlSlI0VVRteFc0eDdPUy1LTWdVNUkteldIRHlXY1Jhamtn?oc=5\" target=\"_blank\">Flipkart launches counterintuitive 'Don't Buy Me' campaign for Nothing’s Phone (3a) Pro</a>&nbsp;&nbsp;<font color=\"#6f6f6f\">Exchange4Media</font></li></ol>\n",
            "   Link: https://news.google.com/rss/articles/CBMixgFBVV95cUxQNTR3Zlg3NHRoM0J2U1A4VVFYQmpDNWdwbzBwR2xjbFlGYkMxQTE1MHdBWXpjcmxPVDZ0aG03U0xBSU1Fak1HNm9BTktMbXRaLUx3QTRSQUVNT3ZoWjRXZHZUQXdEaGpJZ2tMSTE5Q1hhZlhvejhkS3lHMkpYcTI4S2E0OW1OamhiTnVCcjFLVDNhU05BZW9TbUxBWjcyd1M3Tm9GeWNvMHlCRDhnQjlrYjk3RmhjUUJCLUxWNHVFQUY3bXJ2MXfSAcIBQVVfeXFMT3VvYmM5UEpxWHlrMzM1Y25SX0I2M1g4ekZ1RGlxQ2xSRm1NdTY5NzVuWWlieGg3VFFYZkw0LVd0SlR4dnp1bzNMUmtOTnhvQnUzY0tWTWxydThuVFg1WWxwN3pBWGcxWE44UlVQRDM5djFVN1puaVQwaUpzY2NVTXp2M1E1VldLRDdOclctVmwwM0dnX3Q0aHRzUTRidmFOYktSRk5vOHlrR3U4U0RZc091UzQ4aTVOQWFWN184NHQxZEE?oc=5\n",
            "--------------------------------------------------------------------------------\n",
            "6. Google Pixel 9a: AI with Gemini Nano, But RAM Constraints Hold It Back - The Bridge Chronicle\n",
            "   Summary: <ol><li><a href=\"https://news.google.com/rss/articles/CBMie0FVX3lxTE9feVZQc3Z2dFl0RUhIUVFIbUZVQnpadUpmRXR3UVhJYzZxbk40dktCbW1UWVY5SHFESlZiYUVFRnRJNjlxV0hqQkR3eUJBRjlUb1B4QWVCZEtRaWhFSzlQX0Rad01QdG9Ka0VQTmQzdkx1QnJWcjYtUzJWZ9IBiAFBVV95cUxPQWdpeUV4b1ItNU5lcDJ3U09XLWVSNUtVNVdBNWE4aVlxei1oc3loVzgtaEMwT2lseGZLNFZSek9GbTMxb0pUWE1va1JTZ3pfcTJ0cEJuSkllb0NOUG9JaGtPamY1SnM1NUpHdHZWWkhGTWt6UEdibE5MYzcwS0ZiN0t0RHN6cGRV?oc=5\" target=\"_blank\">Google Pixel 9a: AI with Gemini Nano, But RAM Constraints Hold It Back</a>&nbsp;&nbsp;<font color=\"#6f6f6f\">The Bridge Chronicle</font></li><li><a href=\"https://news.google.com/rss/articles/CBMieEFVX3lxTE43WnJkMHV3RUFpUkRScG1CWDBuazFTMWpUcHNCX3huQzZpdFYyS2RSOXdDWEFEdVh2TlR4ellvcU1ZbnRqanVwYUVrbUoyOTFCV3FvODZMa01sTUZhdnBNOVdOWkNJSExFazlsS0ozRjdFdDhRTzF1c9IBdEFVX3lxTE0zXzZMR1VpTHppNkJjMERuMFkzZzIxMHBucm1pSEpfS1VmVEJvY2JTa3N2aHN3dTNiNlYzX216dUpEcWhXVDR0UzcyVWlHZkViWEJORnUxeXpMbmtiaXhCLVRCU2hmVGhZWnRSVlVacENaV1lf?oc=5\" target=\"_blank\">Google Pixel 9a in for review - GSMArena.com news</a>&nbsp;&nbsp;<font color=\"#6f6f6f\">GSMArena.com</font></li><li><a href=\"https://news.google.com/rss/articles/CBMisAFBVV95cUxNWjJOdE9hVko4NkRrZmtaZ1NyaXl0U2VWS1JJR1F3cFFTWE5BQXVuOUI4bWJ3dHVvSUpiNGN0OFcyZzlwSnFwSVpRdU1ZcHNDdlJKZ2htaWZEMHFZTzFWYVFfcUUwMURueGRNOHpzWkp1dW9NZVpvMmthdHdDZHdmSG9ybTFhcVZZOHlCTWtHRWQwZkQ5YUg1TnkzUEZIZC1qYXhHM1MyeG02QkpZYU1wcQ?oc=5\" target=\"_blank\">Pixel 9a launched in India: Prices, full specs</a>&nbsp;&nbsp;<font color=\"#6f6f6f\">India Today</font></li><li><a href=\"https://news.google.com/rss/articles/CBMizAFBVV95cUxNLU1sUmdudzhlNWFra3U0V01nemlfd0ZPVUxrQjI1OHUxVS1HblMycDY2d29SUTFlcUhCd3Y1eDdNa05TRUE5UW5JZW4yVlotWHhsZjBjX2gyRGtxcEFqeHN1bS05NWI0UEItYUItam9CTWMwU24yT3JjMGY2bTYzLTFaajI3LXNkZ1U2eGxISDlOQmY3N0tSZ29iZ3JlUzIwLTZxRTV3cjhpd0RZN2piU1RqTnVBcHdkMzVDNVJ4YmRNRW1BX1kxMnVrSXc?oc=5\" target=\"_blank\">Apple iPhone 16e vs Google Pixel 9a: Which phone offers more value for money?</a>&nbsp;&nbsp;<font color=\"#6f6f6f\">The Indian Express</font></li><li><a href=\"https://news.google.com/rss/articles/CBMirwFBVV95cUxQQ3p6SnFobHNIUkRrdHc4U1JCTEE1ZjBVV2JDZVpnc1hzUDhMR2hHaDVNOUVFa0VaRjBSSDRaeXBKLXlpSzRmUG5aSkFiMk9uTXlhTTlaaFpSUUM0NVdzQkF1ZFRhN2tudmNpWWg4RFRRbkNJYThfelF6NXFaLXM0TEJ3UGtuT19aMGlxRzc0bUJKNE9GNUl1UTBlS0pGXy0tUFZPTlo2RWRuNU5aazE00gG0AUFVX3lxTE5fM0I1R2tLRWNjMW9jb0RZSVZEbGFFc2ZfX3U0X0xFYmxlX21QOEUzS1lDX3V2N1B6WUlDTzJlZjk5RXFNekVrcVB2WHl3Mkh3Nmk3eWp4OVg3NnpPSXVuSENELXFjd1BKdjJfOTVJVmZLTzY1V3QyQ1RmRXpwMUhucUFVano1WFE3MHluWUNwR183VzdMQXRWcXdzLURYZTVBRmhEWlViN20xRExKOUlmajFWcw?oc=5\" target=\"_blank\">Google Pixel 9a Reportedly Runs Smaller Gemini Nano LLM, Misses Out on AI Features Due to RAM Constraints</a>&nbsp;&nbsp;<font color=\"#6f6f6f\">Gadgets 360</font></li></ol>\n",
            "   Link: https://news.google.com/rss/articles/CBMie0FVX3lxTE9feVZQc3Z2dFl0RUhIUVFIbUZVQnpadUpmRXR3UVhJYzZxbk40dktCbW1UWVY5SHFESlZiYUVFRnRJNjlxV0hqQkR3eUJBRjlUb1B4QWVCZEtRaWhFSzlQX0Rad01QdG9Ka0VQTmQzdkx1QnJWcjYtUzJWZ9IBiAFBVV95cUxPQWdpeUV4b1ItNU5lcDJ3U09XLWVSNUtVNVdBNWE4aVlxei1oc3loVzgtaEMwT2lseGZLNFZSek9GbTMxb0pUWE1va1JTZ3pfcTJ0cEJuSkllb0NOUG9JaGtPamY1SnM1NUpHdHZWWkhGTWt6UEdibE5MYzcwS0ZiN0t0RHN6cGRV?oc=5\n",
            "--------------------------------------------------------------------------------\n",
            "7. iPhone 16e price slashed by ₹8,000, now available for ₹52,000 after Pixel 9a launch - Bizz Buzz\n",
            "   Summary: <ol><li><a href=\"https://news.google.com/rss/articles/CBMiqwFBVV95cUxQMTNBQUF2OEtNb25rTHl1cEZWUm9veV9IT3VoUmw4Q1RKSnVreVZIcWdtNUdhbUZOLXdDU0MyempTTG9ITTZBeGk3M2k0eWFMQVFKcUl4S1lodFpQd1RmVVpYMlh1c1JkcTBudXZac2FONGU2Nk4wMEJ4R1FYZVl5OF9QQ3ppUVN4VHpaQWEzNTFVNk5fN3lVY1paM01kU2E0R1dIc0k2eXU4OGs?oc=5\" target=\"_blank\">iPhone 16e price slashed by ₹8,000, now available for ₹52,000 after Pixel 9a launch</a>&nbsp;&nbsp;<font color=\"#6f6f6f\">Bizz Buzz</font></li><li><a href=\"https://news.google.com/rss/articles/CBMiogFBVV95cUxNSXdEaXA4UG1jd2FFenV3LXpPT1FXbl9sS29sZGhnaGxkcjIzMFFHbW1MaVhmb2Y0cWdsQnZuRFRFM1lfakxGQ0o1M1UxRmJfSnpULVN2WDNPREc1VUxWdE9pdF9UY2xCR2RvdktrTExyOGw1SGl3Z2xYcjBURHVFeVE5Y0JKcE83Q0NDd01tYWZpdkV6QnlFMVNmWUVWRkhUUFHSAaIBQVVfeXFMTUl3RGlwOFBtY3dhRXp1dy16T09RV25fbEtvbGRoZ2hsZHIyMzBRR21tTGlYZm9mNHFnbEJ2bkRURTNZX2pMRkNKNTNVMUZiX0p6VC1TdlgzT0RHNVVMVnRPaXRfVGNsQkdkb3ZLa0xMcjhsNUhpd2dsWHIwVER1RXlROWNCSnBPN0NDQ3dNbWFmaXZFekJ5RTFTZllFVkZIVFBR?oc=5\" target=\"_blank\">iPhone 16 gets a big price drop</a>&nbsp;&nbsp;<font color=\"#6f6f6f\">India Today</font></li><li><a href=\"https://news.google.com/rss/articles/CBMi_AFBVV95cUxNdHVoT1BsclZVRDRabnM0dGxsNldyaGVfUTNTNlZ3NFJnc1VGWW1DSno2MW9WWkRNd242dnFRNUpDUS1iRjhQVnVKbjhIVkFkLVA3MV9RM2llTG50M1F6WmR1OWZMd0ZKZHVIeWZUUnpVY05HQlpJVnFNQ291QTQ2eEtrbVZtcjF0aGRsWGZneDVHNExIOUlncHZqaXVhRmZrRFJZdGpGVW5JVnhPY0FxWE92R2FxQlV5RW9FdVd5RlJza0hpdzlHeDNSYkNtN0p6eDZOWEF4OV9EWHIyMFFodS14ZjVkTmlpTnhXcUI2a1ZOSVpNeWFHZDJsWHHSAYICQVVfeXFMTnNPNldCck1adzNiclJEVElvOG04cVlkYXI0bWJqUWpwLXJDU1EzbVM1eGtKMVFfM1FmcEtjT2Y3cTcyNlQyckhoMG9TSnIwZlBOcDNkQmdieTgtX2tKOG1sMXhvVWVxbGJ3VFd4ZVBBSDQ0RDlmZVhaMXQwS0lpczVrYkJFUkVyak8zV2JWTENyNVFoUnlpdEdJXzN0R0dhdVNYUl93UXFlY25wcFJ3SXNneUlKa2ZUeTZ6R3E1aHhOWFhVTWFaYnVHNkNSQkpPZTQ3OHk1U2ppX0JWWm1vWGdCb0VVeW1iZ0N5OWRCU3R3Rnd6X0g1ZExzNFRDbVN6bUdR?oc=5\" target=\"_blank\">Apple iPhone 15 is available for just Rs 28,205 on Amazon; know how to grab the deal</a>&nbsp;&nbsp;<font color=\"#6f6f6f\">The Times of India</font></li><li><a href=\"https://news.google.com/rss/articles/CBMitwFBVV95cUxOTl9wNnBLUVNqQ00zMERkQ0RnMW5ZeUVBMjUwbVQwclE0MTNMVkwxSmlsTmJzTkpxeURQVzBEcTJUVmJhWXpkUVZKRUN1X1JId0x4QW1Ya0xqZW1FeXZyRzlPU3RlQm53cVltWS05VmhFOU83TVhreWtZcndQZDh6N202anhxRE9hSzFHZ004dU5lMVdOcFg2dXVNNVJRVlo5UkhoWGptZFJQWEdnT3JMblJaeXBrUkXSAb4BQVVfeXFMTXg2d1FwQ0lVRElhVzJETmhTcnJ6MU9wLUMwb0NueHdfald2cG9Vckx1bGxkVUFyNWl1UHFLck9mOVk1cmhsUlVESWpHbnZrUUppRzRpVUo0MjYxWjR3ZjltSVo4dEE1S0xhS0YySUxNVFNmN21FZ0djTHdvdzUwTENRRHVoVDg4VWtwXzBnc1lRQm5UUmFTeGhKOU5jQS1UNGtxaHpVRlJOd05aNWRFUi1WR3pxVEJpMElJV1VwQQ?oc=5\" target=\"_blank\">iPhone 16 Plus available with Rs 11,600 discount: Check deal details here</a>&nbsp;&nbsp;<font color=\"#6f6f6f\">Digit</font></li><li><a href=\"https://news.google.com/rss/articles/CBMiyAFBVV95cUxObW5wYk1RMlQtQ2VzZ09BTHQ5cEdGeUFYUmdGRl96clJYZ0IxaDktMVFNd3ByMVBZU29qNElhMzhvWm0tSFFpeTB5RDV6dWhGS3Z1ZjgyN2Vwckh3WGk0dGxvLU9qOHNvcE1VNk9FS1lheTFkVU02bzY2RDZWaE14MXhDRjlOa0hIeWQ3WnQyVE9PTTFMSExtdndmY081VXJvXy1sTmRXV3Flb2U2RlFYTzY5V2pSLS1DaHRJQkZUZ0d4ck1hUGJFM9IBzgFBVV95cUxNdFktNjZOZW1udXZCRHZ4TW1QT1k2MFVTOXFxNXAxU2c5RlMzV3JFSFhDbXNJUkdtaHBhMmEzeU1ZVnQ5R1lJT3g2bVhtV2JFY1NzcjByb25vYzQtRTFaZHBteFFIdmFNTlVOQUhLRHFmQzh0aTN6a0ZEbFo3Y1c4X2t0TlFhRlM2N2gxX1J3eW52QVFWLVdTMUhFZ1JhN2FIS1plbGkwekhwTE1HR2JhSzJNa1RVZldPU2lnNEgzdjl1YzA0bS0yb0JneFdlUQ?oc=5\" target=\"_blank\">Pixel 9a launch effect: Apple iPhone 16e price drops below Rs 52,000</a>&nbsp;&nbsp;<font color=\"#6f6f6f\">Moneycontrol</font></li></ol>\n",
            "   Link: https://news.google.com/rss/articles/CBMiqwFBVV95cUxQMTNBQUF2OEtNb25rTHl1cEZWUm9veV9IT3VoUmw4Q1RKSnVreVZIcWdtNUdhbUZOLXdDU0MyempTTG9ITTZBeGk3M2k0eWFMQVFKcUl4S1lodFpQd1RmVVpYMlh1c1JkcTBudXZac2FONGU2Nk4wMEJ4R1FYZVl5OF9QQ3ppUVN4VHpaQWEzNTFVNk5fN3lVY1paM01kU2E0R1dIc0k2eXU4OGs?oc=5\n",
            "--------------------------------------------------------------------------------\n",
            "8. One UI 7 sets a date, sets another one, then gets cold feet in this week's news - Android Police\n",
            "   Summary: <ol><li><a href=\"https://news.google.com/rss/articles/CBMifEFVX3lxTE45ZGVnY003OXByemhubndkLWw5T2lCSEgzU1RiVlk3ZkpKTWhDTTZYSloxc2drd29LWVlyNkJmTXFkMDFjZ1cwLU13cHBzcjV2blRxMjJIVWRmOVBrU29mNjVBbC1mWFZGMlV4aDJhOVVCT2dDd0FNaDBEVlU?oc=5\" target=\"_blank\">One UI 7 sets a date, sets another one, then gets cold feet in this week's news</a>&nbsp;&nbsp;<font color=\"#6f6f6f\">Android Police</font></li><li><a href=\"https://news.google.com/rss/articles/CBMihwJBVV95cUxOVmt3dndISzU4Z1RxcGpOTkMzTFFDUHQ3NkFaMDFNM3poQVZ4Q3ZjdDBlaDZhRFRpaVBxWlFFcTd6X29NdjRwallBZktuejNaMFR6U1hsZDlWRmw2eTk2MDJtYlJXVERWS2l0cE1pcGlnRmlMTzRKNkRISzJQSl9FSjdON0UyeTREWmdJVzJPMEtSUU44WTJiM1p2cUxGalFTTEk3T0piY1VlSTBBcnNXYVlfaHhKcjJQOHVxUkZISXA4bE9pNVpQQVhQMkd2RkZwdFgtRTVHTDhxNGJkSzVYYl9paXJCSlVVOFhzcUdiUWhaTnhaVzRsb2l5MDFiajhFelZyM2NiTQ?oc=5\" target=\"_blank\">Samsung confirms One UI 7 update for older Galaxy devices; 34 models now eligible. Is yours on the list?</a>&nbsp;&nbsp;<font color=\"#6f6f6f\">Mint</font></li><li><a href=\"https://news.google.com/rss/articles/CBMimgFBVV95cUxOSkg2YnBPd3ozVlRwSzJ6VnlibTFlcnJKTUtKTEt5VlA5V3B4aVhtNl8zYWhnRXhhaTM3aV91Yk5fNkx5dERvZ1pKNGo5N0Jrek1GdDJZcEFhcmc1bDVmbmlidFBiM0RVMi04elN4Y05fMU80S1NWUFRyTUk5SHpjYzVJZmFGVTlxQ0ZBMXo2eVMwTnRoVU5jRm5R?oc=5\" target=\"_blank\">Samsung Announces Official Rollout of One UI 7 Starting from April</a>&nbsp;&nbsp;<font color=\"#6f6f6f\">Samsung Newsroom Australia</font></li><li><a href=\"https://news.google.com/rss/articles/CBMi3AFBVV95cUxORG5UQ2czZjhFQnlPMFVjSG82RFZTY2lQaEFSajA4bTdJREtGOUFOdWo1OWo2cHF3V0d2X2U4TTA0ZlJ5cUFmZEstaFZnTktQUS01QXBwcWhZaXRkWjJpN2lVem52UnEzcmNIX25QbFJIRVl4dTRKY0o1Ry1CMTM0QXh6SWNySGFVekpiTF9nNm9kbjBjMHM3SWd0OVFtNEVhSmJYX282cFZWV3JfR1RpTUpvaFc3SGlHQTVOMGhUNklUTkRZZ2tEelpYejhjbHM5dlBHYkNEcG42N0tr0gHiAUFVX3lxTFAxWHN4TmpBRm13VWZ1VkZjWlduVUdtV2oxTTU5QWMxdXRpTjd1YUVWOU5EenNOLWlaMVNlR1Z5eFFpN0lSRklJSmJuX2tzSE5jX1g1cUdfa1phUzBWZ0ZuQ1h0RDlRUE1IRklWNXNtWmtNdzFGMl9DMTZnZW5wNi1VN1Y1NDBWdHp0MVpRWmFBRHJ1czVETDdmUkp0bUY3bFZZbGp0cGhKUkpwdUVaS3BUSWVrYkxoczM1bkdxcXNlRVVQdWhPU1hNY3RWak9VblNKeW1ySHBDRkVpVkkyREQtdkE?oc=5\" target=\"_blank\">Samsung expands One UI 7 rollout for Galaxy S21, S22, and more for Android 15 update</a>&nbsp;&nbsp;<font color=\"#6f6f6f\">India TV News</font></li><li><a href=\"https://news.google.com/rss/articles/CBMijwFBVV95cUxQcG1PNWVWUy1BVVJ6TTh0VUJaek40RUJNWTdnMGZ2X2NuRFhQVGVDRVpZQ015RHlac2lld1U2WERuald4Si1ncDBUTmIzZERpamhoa19HeUpfRURaN0dqa2I2R1JuVWZEa1R6a3hJWHFEcFlsTnNCbjhMaDVwb2ZZYldyVHBSSjg0YWFNMVJ5aw?oc=5\" target=\"_blank\">Did Samsung just quietly delay One UI 7 public release?</a>&nbsp;&nbsp;<font color=\"#6f6f6f\">SamMobile - Samsung news</font></li></ol>\n",
            "   Link: https://news.google.com/rss/articles/CBMifEFVX3lxTE45ZGVnY003OXByemhubndkLWw5T2lCSEgzU1RiVlk3ZkpKTWhDTTZYSloxc2drd29LWVlyNkJmTXFkMDFjZ1cwLU13cHBzcjV2blRxMjJIVWRmOVBrU29mNjVBbC1mWFZGMlV4aDJhOVVCT2dDd0FNaDBEVlU?oc=5\n",
            "--------------------------------------------------------------------------------\n",
            "9. Gemini Live’s Astra camera, screen sharing starts appearing on Android - 9to5Google\n",
            "   Summary: <ol><li><a href=\"https://news.google.com/rss/articles/CBMidEFVX3lxTE5IT3Jpb2lnLWVZaHNMbTdIckhNZ0c5VG1Pc2dhS2syS2VYanJOVTVMaDQ0elR3UnBFUVB5THdVU2VBNkJwMU5mdDJQMDIxSkJmSllwZlctSTVDNE9Jc0JoRmZiQlpnY19EOGY0RUFYdlZXUWZC?oc=5\" target=\"_blank\">Gemini Live’s Astra camera, screen sharing starts appearing on Android</a>&nbsp;&nbsp;<font color=\"#6f6f6f\">9to5Google</font></li><li><a href=\"https://news.google.com/rss/articles/CBMickFVX3lxTE9kX0pMd0lVN2VEak9DdEhhSHE3c3Q0bk4yMzhucmJOZ3F5Tk9RcTBtT1IwdVNQMFBtMjJhWWozbGk1ZTNVZEM1cTZiRVVjdXZiMWxBMjYwT0RKN3RRcTEyWGgzcWg3UW5YdW1WTGN0azl0UQ?oc=5\" target=\"_blank\">Gemini Live gets more compact interface ahead of Astra</a>&nbsp;&nbsp;<font color=\"#6f6f6f\">9to5Google</font></li></ol>\n",
            "   Link: https://news.google.com/rss/articles/CBMidEFVX3lxTE5IT3Jpb2lnLWVZaHNMbTdIckhNZ0c5VG1Pc2dhS2syS2VYanJOVTVMaDQ0elR3UnBFUVB5THdVU2VBNkJwMU5mdDJQMDIxSkJmSllwZlctSTVDNE9Jc0JoRmZiQlpnY19EOGY0RUFYdlZXUWZC?oc=5\n",
            "--------------------------------------------------------------------------------\n",
            "10. realme unveils new models P3, P3 Ultra - The Hans India\n",
            "   Summary: <ol><li><a href=\"https://news.google.com/rss/articles/CBMiigFBVV95cUxQRDdlQWR1UW92M0NoVHJDOEJJTHNCajhrMWF6UFVXS215N1BrYVBqYk50bHlORVYtOUxNeHYzaFFISDc1dDFSS1NzdzJubzNiRlZ2bzB0U3ZjSjRuUm1Od1RjeTY2WHUxWDlMZ2YzWjJTUU4zclhNM3FYZlFGRDhaRXNMaG12MkRlMWfSAY8BQVVfeXFMTS1XMnc2MFA2clNZMHlabU9UU2ZwSHRsdW84dzJTV29DQVkwLWV4cDMySXZ1b0oyam0zZkc4QWdQc19ROFhuMEw2a29ZX2MwVzZZR2ZnMkxodHAyelFOVmNCUkZSUDQ5UExzb0pEVjhHNzdpNUltR1RWS2dXSnFrbWtMMUpPZE1weW1yQXRxd2s?oc=5\" target=\"_blank\">realme unveils new models P3, P3 Ultra</a>&nbsp;&nbsp;<font color=\"#6f6f6f\">The Hans India</font></li><li><a href=\"https://news.google.com/rss/articles/CBMirgFBVV95cUxORnBlanVYcnpDZFIzSzNubXNsS2l3WFZRTmhOTFNkUHQxRWtlblM1eHYxeXZPMDk3aVdLcmlVVWVncHBrUVlxd2QwMEtEZVBUb09sSEpzOTFzbVJzRTRUalQ1LUZLZGhVeVpIUXVkQTAwaDVpMW9zRlU0MWo0RW1FXzR3SThPT0xxcUpEbGdIMWZvVE1paFQwaUFXb3Q4U3hGY285cVYyYWNGTnFKTnfSAa4BQVVfeXFMTkZwZWp1WHJ6Q2RSM0szbm1zbEtpd1hWUU5oTkxTZFB0MUVrZW5TNXh2MXl2TzA5N2lXS3JpVVVlZ3Bwa1FZcXdkMDBLRGVQVG9PbEhKczkxc21Sc0U0VGpUNS1GS2RoVXlaSFF1ZEEwMGg1aTFvc0ZVNDFqNEVtRV80d0k4T09McXFKRGxnSDFmb1RNaWhUMGlBV290OFN4RmNvOXFWMmFjRk5xSk53?oc=5\" target=\"_blank\">Realme P3 Ultra launched: Top specs, price and more</a>&nbsp;&nbsp;<font color=\"#6f6f6f\">India Today</font></li><li><a href=\"https://news.google.com/rss/articles/CBMinAFBVV95cUxOVzkxSTJDdTNuOFB5Z0lIOUg0OThObElJWEJYNkxwOU1TYVhDNEhvejFTRkpXWXd6dVpkbWpZSUFWZlBGOWxGTEtScVNnRU9Ib05TOERDTktoaXFGbFhpYWkzMC1uSmM0U0prazFxWExFek9BOEpwOUxFc3hvYWM5YTFiU08xekJUdlAyeHR6N092SUJEMnRIZ3FkS2XSAZwBQVVfeXFMTlc5MUkyQ3UzbjhQeWdJSDlINDk4TmxJSVhCWDZMcDlNU2FYQzRIb3oxU0ZKV1l3enVaZG1qWUlBVmZQRjlsRkxLUnFTZ0VPSG9OUzhEQ05LaGlxRmxYaWFpMzAtbkpjNFNKa2sxcVhMRXpPQThKcDlMRXN4b2FjOWExYlNPMXpCVHZQMnh0ejdPdklCRDJ0SGdxZEtl?oc=5\" target=\"_blank\">Realme P3 5G: Budget 5G Smartphone</a>&nbsp;&nbsp;<font color=\"#6f6f6f\">Rediff.com</font></li><li><a href=\"https://news.google.com/rss/articles/CBMirwFBVV95cUxPVmpoOGJHNUZyRk5xQkxTeFRVN0FvcnYyS3ZVdlUtOWtDTXBNZFg5T3JhMGJjc0tJTEZNTlh6ZHp4N3VadHg1QnFJOFRSalFrQzE3aHd6dmxWWV8tZWNWWDFaMC1LcmpyZkc0bXd5YklyZTE0RFpXb2ZrbEdXWUJBek1fOFdaQjc4VTlRVnBTRGI0bC1uRzZPTHNwZHVZM05veTBQUlFFLU5KRG9jSmJJ0gG0AUFVX3lxTE1QNEQ3eUNpVm1KTmpuNUJEMWluQ0JqTkpfTEFfUHEwWmZOVUdlZDBobENHeFZhYjlLMFBRbFVmSXhrVEw1QkNsSjlXaTVlU1FJNWVnc29WeS1jM1gwWVk2a29EQjdmczhRUHVOS2h5bHpEcjNjWUhBai1JVlR6Sm9TQlo5ZnpsZk5YVk92QzctVUF4dDBGTy1zZ0o1ODNsSmdneVpwUVdiV3ZBblkzME1EVUdaYw?oc=5\" target=\"_blank\">Realme P3 Ultra 5G With 6,000mAh Battery Launched: Price, Specs And More</a>&nbsp;&nbsp;<font color=\"#6f6f6f\">News18</font></li></ol>\n",
            "   Link: https://news.google.com/rss/articles/CBMiigFBVV95cUxQRDdlQWR1UW92M0NoVHJDOEJJTHNCajhrMWF6UFVXS215N1BrYVBqYk50bHlORVYtOUxNeHYzaFFISDc1dDFSS1NzdzJubzNiRlZ2bzB0U3ZjSjRuUm1Od1RjeTY2WHUxWDlMZ2YzWjJTUU4zclhNM3FYZlFGRDhaRXNMaG12MkRlMWfSAY8BQVVfeXFMTS1XMnc2MFA2clNZMHlabU9UU2ZwSHRsdW84dzJTV29DQVkwLWV4cDMySXZ1b0oyam0zZkc4QWdQc19ROFhuMEw2a29ZX2MwVzZZR2ZnMkxodHAyelFOVmNCUkZSUDQ5UExzb0pEVjhHNzdpNUltR1RWS2dXSnFrbWtMMUpPZE1weW1yQXRxd2s?oc=5\n",
            "--------------------------------------------------------------------------------\n"
          ]
        }
      ],
      "source": [
        "import feedparser\n",
        "\n",
        "def extract_news(company):\n",
        "    # Google News RSS URL for the company\n",
        "    rss_url = f\"https://news.google.com/rss/topics/CAAqJggKIiBDQkFTRWdvSUwyMHZNRGRqTVhZU0FtVnVHZ0pWVXlnQVAB?hl=en-IN&gl=IN&ceid=IN:en\"\n",
        "\n",
        "    # Parse the RSS feed\n",
        "    feed = feedparser.parse(rss_url)\n",
        "\n",
        "    articles = []\n",
        "    for entry in feed.entries[:10]:  # Get the first 10 articles\n",
        "        articles.append({\n",
        "            \"title\": entry.title,\n",
        "            \"summary\": entry.summary if 'summary' in entry else \"No summary available\",\n",
        "            \"link\": entry.link\n",
        "        })\n",
        "\n",
        "    return articles\n",
        "\n",
        "# Example usage\n",
        "news_articles = extract_news(\"Tesla\")\n",
        "\n",
        "# Print sample output\n",
        "for idx, article in enumerate(news_articles, 1):\n",
        "    print(f\"{idx}. {article['title']}\")\n",
        "    print(f\"   Summary: {article['summary']}\")\n",
        "    print(f\"   Link: {article['link']}\")\n",
        "    print(\"-\" * 80)\n"
      ]
    },
    {
      "cell_type": "markdown",
      "metadata": {
        "id": "fYomGZ1AaGZb"
      },
      "source": [
        "**2.2 Test News Scraper**"
      ]
    },
    {
      "cell_type": "code",
      "execution_count": null,
      "metadata": {
        "colab": {
          "base_uri": "https://localhost:8080/"
        },
        "id": "Ab2LXdTyaFjR",
        "outputId": "15fb246a-db73-4cee-b218-6eba401430d0"
      },
      "outputs": [
        {
          "name": "stdout",
          "output_type": "stream",
          "text": [
            "[{'title': 'Assassin’s Creed Shadows could be GOTY after historic 1M player launch - The Times of India', 'summary': '<ol><li><a href=\"https://news.google.com/rss/articles/CBMi5gFBVV95cUxOWTdnbkhHZGxYSzRKLXRHaVktRkpsbWVuREVoaU43UDBLMWtPTVkweGtCOW1NM1VzcEN3S3J1TkRvd0NLY0JSbG11RFhLQ002Z1NjNG5sRnlvd1F1NlJpOXJ6amdJLTNZZEU5b3JBUUNSMmJJOXA0X09PNmRHNHZqSlZyZ2s3cU81WENBWFJaelhwbTJHLU05UzVNeUZOeVcyVURySXNQUGxBTjJSZHhvbHBUQTI1cHMzZEs4eTFITHc1X1pSXzNNMktHbjJ0Tm5xVF9Od3Y4OWJ6NlVVMjdtV1RZUEFNZ9IB6wFBVV95cUxNZkVNQ0xaYzhfZjhULUh0cmFOOTk5MU5pcGlJWlB3VC1jTFVINnM0QklNcXl3QWszSjhwU1p6eW5PcV9WcFJkSzhBbzFoNWc3MF9oZHFyT2ZqZWE1b0NvaFNlbzlvenltazgtRGVTanF2bXlEa05qT01nVzlDb0daUXExSWxKUXQwWENEb2s2VTRlZXNKR2RULW9wXzVnNVdnT2FnaGFQdDRHdmxFMDRYcXFHQ3VFY0ttaTlIeHgwcFExRERUS0tTSVZTaU1ZWG13d3BLbkdzZFR6bkhNTHZtazBqb2JoWlkzWDVv?oc=5\" target=\"_blank\">Assassin’s Creed Shadows could be GOTY after historic 1M player launch</a>&nbsp;&nbsp;<font color=\"#6f6f6f\">The Times of India</font></li><li><a href=\"https://news.google.com/rss/articles/CBMihAJBVV95cUxNNmpTa1d3MHJoUVVZWHVxR0xNWG05RzU5OEUyWkdoUl9YSWd4QS1kV2tqRnhGVlZfN3FNc25uTWxmWmhBV0lRZGhWT0Q1QnVOSVhXLUwzTGxaMTRLR3Y3anVaSjFCQUhVOWNXbHpIQ0JMRDZ0ZGxJSlJ3dHNzQVVpZHNIazNYLU13TDVWN01rMzRuYl9ZYmp0M3g2eXlIa0lpT1k3M2RNaEdiZ3ZVYTU1aXFWWEV6SGV3dUZGNHBObkpnWTNUb1NzOXNzTTlYWFJsSW9XcXBrRmJrVnBZN3N3WUQ3Q1ZmNTNsWUNseU91Q28wV09ITjdCcTE5Q3lHZUU3YjZQRw?oc=5\" target=\"_blank\">Amid Japan Concern About Assassin\\'s Creed Shadows, Ubisoft Confirms Day-One Patch That Makes Tables and Racks in Temples and Shrines Indestructible</a>&nbsp;&nbsp;<font color=\"#6f6f6f\">IGN</font></li><li><a href=\"https://news.google.com/rss/articles/CBMiwAFBVV95cUxNUDFtOHpYYWRUSWdqQmEyMTlPVWNEbVpoVkl0cEJZMTJrUUp0RXl5OUhZVjVOT0s4R3NKU3EzYWZTbzVPUlpPaHoyV0RyaUptZW9GVUNFZjdXUVpkSXF0VDJobEpwUVZwOUhBMHlzeXp1b0t0YjdCdkhOVWNOMExuMjc5czJyaVp0a0dYMGpoQ2N5SXdFRUxvLVJybjFtZTFfTlFtdmZVWnRXQmVIWVFfQU5QOEF6M0RkTmtvZmhKQUzSAccBQVVfeXFMUHU2R050c0JkQXY3VUl5WWF5YUJnT0dGSmJKcXNwWV9fMHdEeThsc21YdFBLNDRVbG9qLTZLQmg0SlJjMDhqaGsyMl84UTU5Tk1YUENMbncxSmlUdmgyTmVVSGRhWFR4Z3cwWGZSMDJ5MEowTUVGUGpiMjBFTW9OaWo3a24xQUpDR3BTcnphUU5pMkt2ZGxIR3dRZ1dncGFsbWlnOEgzekRIMzZLZ01ldkpsUUU1ZlRQQUZ0VWhCRFE3U2JaSkpTQQ?oc=5\" target=\"_blank\">‘Assassin’s Creed’ hits shelves; Europe games industry on edge</a>&nbsp;&nbsp;<font color=\"#6f6f6f\">The Hindu</font></li><li><a href=\"https://news.google.com/rss/articles/CBMikAFBVV95cUxNb3VlSWpLLWRnREtNdnlTa1JFM1N6T0M2VlNlcW5SY1dzZmZEUk5JWUVwSmRlRHh2aHI4ZjNaQkVWRmt3UnVaRTNOT2lHbUJqTHR1UFNhV0pySWpxM3BmSHZCWnVEVXVLMm5hQkVHQl9aWVFGczFScGx3MTNfanQ4S01aay1mVTNPcExKcGVzQzI?oc=5\" target=\"_blank\">Photo Mode is my new gaming obsession</a>&nbsp;&nbsp;<font color=\"#6f6f6f\">The Verge</font></li></ol>', 'link': 'https://news.google.com/rss/articles/CBMi5gFBVV95cUxOWTdnbkhHZGxYSzRKLXRHaVktRkpsbWVuREVoaU43UDBLMWtPTVkweGtCOW1NM1VzcEN3S3J1TkRvd0NLY0JSbG11RFhLQ002Z1NjNG5sRnlvd1F1NlJpOXJ6amdJLTNZZEU5b3JBUUNSMmJJOXA0X09PNmRHNHZqSlZyZ2s3cU81WENBWFJaelhwbTJHLU05UzVNeUZOeVcyVURySXNQUGxBTjJSZHhvbHBUQTI1cHMzZEs4eTFITHc1X1pSXzNNMktHbjJ0Tm5xVF9Od3Y4OWJ6NlVVMjdtV1RZUEFNZ9IB6wFBVV95cUxNZkVNQ0xaYzhfZjhULUh0cmFOOTk5MU5pcGlJWlB3VC1jTFVINnM0QklNcXl3QWszSjhwU1p6eW5PcV9WcFJkSzhBbzFoNWc3MF9oZHFyT2ZqZWE1b0NvaFNlbzlvenltazgtRGVTanF2bXlEa05qT01nVzlDb0daUXExSWxKUXQwWENEb2s2VTRlZXNKR2RULW9wXzVnNVdnT2FnaGFQdDRHdmxFMDRYcXFHQ3VFY0ttaTlIeHgwcFExRERUS0tTSVZTaU1ZWG13d3BLbkdzZFR6bkhNTHZtazBqb2JoWlkzWDVv?oc=5'}, {'title': 'Garena Free Fire MAX redeem codes for March 23: Win free diamonds, weapons, skins, and more - The Times of India', 'summary': '<ol><li><a href=\"https://news.google.com/rss/articles/CBMi-wFBVV95cUxNOVFXbmJ5dHM0Qy1vZzR3ZVM4NUFob212R2VEb2VPWjV3ZjhsRTVBRGNUemNhbFNlbTRyeGR6Z3kyaThHajhadk52Y2hNOUx3M1NBM1drd0x4a1B6a21zWGk0STl2elNqQy03X0x4b0lDY1MtQ3FTY2lVbzFiX2RIOU5tdnM5bEFSMm1TWkNtM2pTRmliVEk5V3EwVll6eU56MWk5SzE1QXRRdDZidjNwdlpfWUdMei1jYW1iMVVlRVlaSnN6Yk9HMUR3TVlwVVVtSFl5MXYwMTVsNDI4M1Uybjh0dWd2Y3FlQk9NUHlmZHQ4VGpJQk9obEVOQdIBgAJBVV95cUxOaTJEbktDMExiT1dUWVVCLTUyQzRsT0RJampWcF9VbmlMUFVDa2pLNjRzc3pqNTVISjdtWS1PdVQ1ZjdHN2dlbGlDWTZ1Nmp2TW0yUFVmYmFFbHV5bkNFYmFsUGZ6T0wwZzZFOXMyYUg2UGt5N3RfR2JwZVZPb2FwZklNeEpVcFlaS2ZTOGw0QzhBZXBVV3hxM1FtYXRMQzMxVjgwUTlTVDBWRXVkZ25ydVdKU214YURrbGU3bnRQVjlVWEJMeUd2d1ItXzVuc1ZzSzE2Q3E0Z2xaTlVya2ZNRFEwS0hCR2owS2Q0UzdHUmYxWEg2bllSazlYNURKSERL?oc=5\" target=\"_blank\">Garena Free Fire MAX redeem codes for March 23: Win free diamonds, weapons, skins, and more</a>&nbsp;&nbsp;<font color=\"#6f6f6f\">The Times of India</font></li><li><a href=\"https://news.google.com/rss/articles/CBMi4wFBVV95cUxPN20tVURQZTVqNXRGLUhadGFpMHNINlpzbjY0TGdBZHMzVFVZTUdwU05lc2g4MDRFZ3dBcktlLUwwVW5CZk1BOUFOYmdFc3phR29fZUhON0lpMHJEcmE5cW1jRkJoSXZCYTl3OFlXTnViY3dQYlk0OXd1cm5VZ2FVUnpzeGlId3dEYUNHOG12cDBWRUVGMkkwYTA5Sldud1VGSmdLZ212WUhEV1dyX0F5Z2t5RmtGTEtQeFJvd1FmSFdOWS1RWUhZek4xWFM0VU1XNDBsZW84SHZTcnBHSWtrN25LONIB6AFBVV95cUxQMDlPbzNRSDN3bVVyQ0ZreG9WOVN1Z1hBVFVNUGVDMXNfWUJZOG5BMFhUREpDTFFNazcwVm5mdF8yR1B4SWlyV3dteUw1Qk1BOEMtUUxXS2F4NlJUNW9ENHdJLXVGQ041d01fMlZjLU41cXFBd1pVUEx2WlhqRmNzRnRCWms5SGNEOXFFbWFxWG5rekMyT2lPc2dESWh6R2w4dU5lbHJ4cFNiSHBEcF9qNmF0MlZEdWpycGJ4UF9fZDY1SXhXNzZxcm9TcnNLSVY4STFGVEkya2RTYWZ2eXhyVG5WSE1nOGNr?oc=5\" target=\"_blank\">Garena Free Fire Max redeem codes: Win new skins, diamonds, and other rewards for March 19</a>&nbsp;&nbsp;<font color=\"#6f6f6f\">Moneycontrol</font></li><li><a href=\"https://news.google.com/rss/articles/CBMizAFBVV95cUxQZkZmWTJTdUNROEdWMDFHRUdRaXM5cU1mencwSnJRRG91YWJrcWxVZlVjOHZpZUJNa2o3VUQzOEQxZ3JwVE50WWxUYUZ5Z1dqbkM1aEs3X2ozcUQ2Z1NMTS1pZHJhRnpjX2Y1SzNYdVRjc3o0NHJpWG9wTjBmVHVZQ0lMaWt6NFFUaDFfVjljUGFUU0RQSFdBQU9wQWVUSFAzVk9OSGJ6T2RFai13Y1kzclhkYkNRT0lQT2JvamxOT3NXbzRHcmE4RnpfQnLSAdIBQVVfeXFMUGdQZHUzdnFwNXVMRDAtallNUUZtMFNhamdyaGNZY0Nlam9OSzZRR3BHTjJQQW1uVGtKcXZ4ZUxUc2dZcng2WTkwTi1KY2VCQWxsNVVHYk1GSEFJakx2RzlGQ1k0ekNyWXFmMHpzaTFUdGJGeXJTb0V3Wk81R0JidmJoYTZFb0pVZEJkRUJCWUFoQ1Mxb2IwSWRTQWNWT1hfM01VVkxkRGN0NlY0S2JVZXRtSkZBMjhzV3daaUJnSGI2TjVTX1NQaEJTUEExTnZWalpB?oc=5\" target=\"_blank\">Free Fire MAX Redeem Codes for March 22: Unlock skins, diamonds and more</a>&nbsp;&nbsp;<font color=\"#6f6f6f\">India TV News</font></li><li><a href=\"https://news.google.com/rss/articles/CBMi6AFBVV95cUxQMS1sbGx1UExtNUx0TEo2dE4zdjlDVG94dnVzU1AtVXoyZ1dzRjFaeFhUX3dSV2dOS0YtclY4bzd6dUVlTkxwc25MM2gzWmFCV21QdWdGVlVXYUZTTmREbHN6cXE1LTlkem5UcnZ4dlB5U0NwWFZzX2Zjc3d6eXY0SWk4RXZFN3VET1BMNkdIS01SelF6RWpYODRTSmFtZjlqZm0ycGUzbGt5cXhvb0Z0N3dhMU8tWEF5Z1h5VFU2ejVkTEpESEdIS0Vpa1Z2OFlZWGpHQW93ODlWamZ0eUhwYnBsWWo0bzlS?oc=5\" target=\"_blank\">Garena Free Fire MAX Redeem Codes For March 22, 2025: How To Unlock Free Skins, Diamonds, And More</a>&nbsp;&nbsp;<font color=\"#6f6f6f\">HerZindagi English</font></li></ol>', 'link': 'https://news.google.com/rss/articles/CBMi-wFBVV95cUxNOVFXbmJ5dHM0Qy1vZzR3ZVM4NUFob212R2VEb2VPWjV3ZjhsRTVBRGNUemNhbFNlbTRyeGR6Z3kyaThHajhadk52Y2hNOUx3M1NBM1drd0x4a1B6a21zWGk0STl2elNqQy03X0x4b0lDY1MtQ3FTY2lVbzFiX2RIOU5tdnM5bEFSMm1TWkNtM2pTRmliVEk5V3EwVll6eU56MWk5SzE1QXRRdDZidjNwdlpfWUdMei1jYW1iMVVlRVlaSnN6Yk9HMUR3TVlwVVVtSFl5MXYwMTVsNDI4M1Uybjh0dWd2Y3FlQk9NUHlmZHQ4VGpJQk9obEVOQdIBgAJBVV95cUxOaTJEbktDMExiT1dUWVVCLTUyQzRsT0RJampWcF9VbmlMUFVDa2pLNjRzc3pqNTVISjdtWS1PdVQ1ZjdHN2dlbGlDWTZ1Nmp2TW0yUFVmYmFFbHV5bkNFYmFsUGZ6T0wwZzZFOXMyYUg2UGt5N3RfR2JwZVZPb2FwZklNeEpVcFlaS2ZTOGw0QzhBZXBVV3hxM1FtYXRMQzMxVjgwUTlTVDBWRXVkZ25ydVdKU214YURrbGU3bnRQVjlVWEJMeUd2d1ItXzVuc1ZzSzE2Q3E0Z2xaTlVya2ZNRFEwS0hCR2owS2Q0UzdHUmYxWEg2bllSazlYNURKSERL?oc=5'}, {'title': 'iQOO Z10 drops a bombshell with India’s largest smartphone battery: Check specs here - The Statesman', 'summary': '<ol><li><a href=\"https://news.google.com/rss/articles/CBMi1AFBVV95cUxNa0dSRHRDTk1mZDhrUTU4a21ic0s1YUZDTUQzY0ZfdjVRQm45ZklNQUtRTWpwRDN4aDNJT0lEZGtZQVNJakIydUl0M3c2aThqUzJyREw3akpObjJGTzQxUjFKU3EzUVVTZkphRmhQek1Gei1vRDhySFVhRGJkQmh5T0V5YXd4SWlqWXdoMFVuTXhUdFRmNVVHdkxDZzNLTG1zN0dBdTVfQ2ljTXk2MEl5NklIMDhqUC1JbUluMW5TZFBIUkFYMDFyRDVsRFlnWDlNd3lVZ9IB2gFBVV95cUxOX25KOUp6WWRMVlVZbUJEYjFOMWFETkEyTkxVczJJYk1PRmQwQzFySTNHbjUxTjhiSUU3Z1JTdEg1MEFYQXZEdkM4TTVuQkxiZXVqTVlBRGh1TEZzLW9hQXNiS3NGcWNaLTlEb3VfREh3NTBPTzFRa05IbElTR0tvUEcwVVhXTXNyRUU5ZG1XbEdCRjRJTmRweXlydmhXcVVuZ1FDRmY5ZFdLQmNlVXY0TFhQWS11UWJScmJoUTRIMnV3RG11TU5zT01DZ05LX3RkY1BSNXN0OG11UQ?oc=5\" target=\"_blank\">iQOO Z10 drops a bombshell with India’s largest smartphone battery: Check specs here</a>&nbsp;&nbsp;<font color=\"#6f6f6f\">The Statesman</font></li><li><a href=\"https://news.google.com/rss/articles/CBMi-AFBVV95cUxQTkc4LWg2Z09oX2g5U3dQRFUwNkJTMG1JWTJGMkRTLV9ma0NRc00yc2pMZklFamdkLXV4RlRVYmpIZUs0cjRFQ1VyZUVjNTU4c0VmaXN5TDZPR2NpYTdZcWtId3B6anpyY0Q5Y001Y2Y1cFpQT1FCX09WTENQTmF2cFN3TVZXLVV3OVlfOU1IYmpMQWN0Smd5YWFVcV9fbm1HYnB2bjNSTG12WjU2TmNveW85R0lZUFIwSzhBWGV4UE9kMEZIWnFOdWhtaUc4Y2Z2amZnWloyUEhIUHlMWENIWmZYRzhmY0F1ZUpBaVNXdGZreDNEdERUetIB_gFBVV95cUxNQy1tejhyTjRrM0ZBa2w2X2w0RXRsUTJjNEpxUExuSi1UTm55bjFFS01WcUU2RjlCN2E0WVAtNVo1Yjc5VVJscVBfaFB3aXBYakFJTXo5Q2tPU0gyTXBXWjRvSXZQa0c5TVlKSkk2dmVrRkJuNGR4QUphS1pNendwYzRPMk1VVEtQMDRVNDdwb1dHYVNLYnhxa3FIMlBIVFFKZTBLVW4wWnVGRFBkaWZzaE01MFZqN3M2d0NYWDZib0VUbjRIdU5hdDJlWGlBeGNnMEJWNHp5UFJOem5YRjktNHdyLVEzMzBodEtsZVROQ1JLRnctVXNzYWRBa3ZZUQ?oc=5\" target=\"_blank\">iQoo Z10 5G to launch in India next month with massive 7300mAh battery: Date, expected price and features</a>&nbsp;&nbsp;<font color=\"#6f6f6f\">Moneycontrol</font></li><li><a href=\"https://news.google.com/rss/articles/CBMizwFBVV95cUxQUEdMU1F5cElSSl9NUU5lZEZoRk5Lbk1NQmVzc2Nza2ZlV1BJdmNfYy1uaU9JN1VVbkw2NEVBZzl3V2tuSi1Hd0RERFFqbGJZRWZYUUp0X3FqaXBaSFY5TUJPU3FnTDdEa2loVHJMSmxTS1FyM0QxZlJQYW4ta0k0V05lQXZPU1lhWWdoMElZVHVWanNEOV8zc1J2a0NtVWpOSS13X0p4djl1by1JUzJheVcxclViNHBIQ0ZwQkZoSFR3cXFmU2J1VVl5dGpXQlXSAdYBQVVfeXFMUFRXbmxobUw3VmNOTjhXbWpRQVoyR0pRcF9zbHRJYzV5TndsZEhjR2xESmVHdjRPdHZ6Wjg4cWd4Qkk1M2owRUwtUUlvSkRvWWJRMHdoT0ZTa05XYjBsd3N3Y3JLeG9YZjlablZ0Q3R1OWZBY2pjYUpISGQ1bWZmOVI0WWRsWWtWWGM0R2hHZWE1Ylplbk1MNGFWQmNIQTlfVTJteWF6a2ptTkotTjFlekM1QVRmeU5CYU1jYXJxdTJ0TkxxeXBCem9nSDlGOFhIWHVqYjFVZw?oc=5\" target=\"_blank\">iQOO Z10 with 7300 mAh battery to launch on April 11 in India</a>&nbsp;&nbsp;<font color=\"#6f6f6f\">The Hindu</font></li><li><a href=\"https://news.google.com/rss/articles/CBMiywFBVV95cUxQNDNVRmMza1gwelNBLTlMS2phaHZRRVdfMUVzRUFIUVp4ZHFnWmJ6X0RxSDhPRWpHNGJxVGhhNzdUb3dkZ29wSkE2NEFUaWdOSXZabWdOT0hmN1JRLXFqcjFkSVliY3JLRU9Jb2c4X1ZQQkhsS2loM2pnT08tSHJ0OWlvTThTMGJ1SGp3bUtnSTUzd0I1VDM4dWVsTkhOeGRBclM1UkZKUTl6aUZuOVZZeEg1VmxtbkM5aEpuRS1TTjFVS2dlWHJITkJBcw?oc=5\" target=\"_blank\">iQOO Neo 10R 5G India Launch Date Officially Announced; Check Expected Specs, Price</a>&nbsp;&nbsp;<font color=\"#6f6f6f\">Zee News</font></li><li><a href=\"https://news.google.com/rss/articles/CBMi7AFBVV95cUxQUHlyQ0FWWDc4b0M5ZThyTVZFMFhkZmktdzJKYVE2LUxLU0EwYW8yMWZuQmotOHBUWUQyRTlURlpMREVPM3RxYmFuNUpNam5uOHRUOUdvdFdQRVlYbFJtcDFjQi10Yk1vMHpoamNPTzlLMXZENU0xUEJhZmRJNm1NRVRDNGN2WlNNcUsyYThaRHFtNlEwZ3NnSnhOaTZtZ05jT0ZHVmNxQmdGZElDTzF4UmlLOXVob2p1eTVfR1ZPYkxhbXhlLTRtb2tYaHhISGVsMk9Xa19EdVBiNFEzVzZ4d19yc0dXVUV4NlFWa9IB8gFBVV95cUxOTzQ0ejlmcXFuUVN1azE0TXhIb3VvQXh2aDh1SzFHVXRnV2tJMVJvUXVCWDJJbFltbWljUS1vR0JlaWdpUk12V01tNFdNbTFJeGpScUxoaVRJLUlQRkN2aVNJVGh2R19mOHFRYnRNdm55Uk9YeTUyRTZRbWtFZmtDbmZodzc1MGtKNUhqbkNEdjFhSDNlS0x6UUtTMDM5TXkwaDgzX2sxck95Y0JfQlNwT25IUGlmc2tCUS1ITXcydy1pcmtJM2NUeTZGQWxGVHV2VnY4dlg2aUhvN2QwS2JLTUhrS193YW4wNXBLTnZ6cnpsQQ?oc=5\" target=\"_blank\">iQOO Z10: Launching with a massive 7,300mAh battery, Snapdragon 7 gen 4 SoC and more—All you need to know</a>&nbsp;&nbsp;<font color=\"#6f6f6f\">ET Now</font></li></ol>', 'link': 'https://news.google.com/rss/articles/CBMi1AFBVV95cUxNa0dSRHRDTk1mZDhrUTU4a21ic0s1YUZDTUQzY0ZfdjVRQm45ZklNQUtRTWpwRDN4aDNJT0lEZGtZQVNJakIydUl0M3c2aThqUzJyREw3akpObjJGTzQxUjFKU3EzUVVTZkphRmhQek1Gei1vRDhySFVhRGJkQmh5T0V5YXd4SWlqWXdoMFVuTXhUdFRmNVVHdkxDZzNLTG1zN0dBdTVfQ2ljTXk2MEl5NklIMDhqUC1JbUluMW5TZFBIUkFYMDFyRDVsRFlnWDlNd3lVZ9IB2gFBVV95cUxOX25KOUp6WWRMVlVZbUJEYjFOMWFETkEyTkxVczJJYk1PRmQwQzFySTNHbjUxTjhiSUU3Z1JTdEg1MEFYQXZEdkM4TTVuQkxiZXVqTVlBRGh1TEZzLW9hQXNiS3NGcWNaLTlEb3VfREh3NTBPTzFRa05IbElTR0tvUEcwVVhXTXNyRUU5ZG1XbEdCRjRJTmRweXlydmhXcVVuZ1FDRmY5ZFdLQmNlVXY0TFhQWS11UWJScmJoUTRIMnV3RG11TU5zT01DZ05LX3RkY1BSNXN0OG11UQ?oc=5'}, {'title': 'Got an old Android phone? Here’s how to turn it into a Chromecast - Softonic EN', 'summary': '<a href=\"https://news.google.com/rss/articles/CBMinAFBVV95cUxQb1Jqd2F5Nkpad0txWmk1NnVVdlQ1bmNDUHNMOU9VV2o0UWNDak9KWXhvVTRyRkFCelc5Q092bzFnbDZDcTlEcUZ5cWNtbGcyUkhaOEdFSGdlMkhHZkVnMjJyd2JHY1dDVkhpWXp2N3oybzFfTGYzUEZDb1Q5dEg2M25ZOE1lazlDVWJiX0JVTDZWR2VHTTQ4cm9aYmE?oc=5\" target=\"_blank\">Got an old Android phone? Here’s how to turn it into a Chromecast</a>&nbsp;&nbsp;<font color=\"#6f6f6f\">Softonic EN</font>', 'link': 'https://news.google.com/rss/articles/CBMinAFBVV95cUxQb1Jqd2F5Nkpad0txWmk1NnVVdlQ1bmNDUHNMOU9VV2o0UWNDak9KWXhvVTRyRkFCelc5Q092bzFnbDZDcTlEcUZ5cWNtbGcyUkhaOEdFSGdlMkhHZkVnMjJyd2JHY1dDVkhpWXp2N3oybzFfTGYzUEZDb1Q5dEg2M25ZOE1lazlDVWJiX0JVTDZWR2VHTTQ4cm9aYmE?oc=5'}, {'title': 'Weekly poll results: the Nothing Phone (3a) is better value for money than its Pro sibling - GSMArena.com news - GSMArena.com', 'summary': '<ol><li><a href=\"https://news.google.com/rss/articles/CBMixgFBVV95cUxQNTR3Zlg3NHRoM0J2U1A4VVFYQmpDNWdwbzBwR2xjbFlGYkMxQTE1MHdBWXpjcmxPVDZ0aG03U0xBSU1Fak1HNm9BTktMbXRaLUx3QTRSQUVNT3ZoWjRXZHZUQXdEaGpJZ2tMSTE5Q1hhZlhvejhkS3lHMkpYcTI4S2E0OW1OamhiTnVCcjFLVDNhU05BZW9TbUxBWjcyd1M3Tm9GeWNvMHlCRDhnQjlrYjk3RmhjUUJCLUxWNHVFQUY3bXJ2MXfSAcIBQVVfeXFMT3VvYmM5UEpxWHlrMzM1Y25SX0I2M1g4ekZ1RGlxQ2xSRm1NdTY5NzVuWWlieGg3VFFYZkw0LVd0SlR4dnp1bzNMUmtOTnhvQnUzY0tWTWxydThuVFg1WWxwN3pBWGcxWE44UlVQRDM5djFVN1puaVQwaUpzY2NVTXp2M1E1VldLRDdOclctVmwwM0dnX3Q0aHRzUTRidmFOYktSRk5vOHlrR3U4U0RZc091UzQ4aTVOQWFWN184NHQxZEE?oc=5\" target=\"_blank\">Weekly poll results: the Nothing Phone (3a) is better value for money than its Pro sibling - GSMArena.com news</a>&nbsp;&nbsp;<font color=\"#6f6f6f\">GSMArena.com</font></li><li><a href=\"https://news.google.com/rss/articles/CBMirgFBVV95cUxNZTZycXB3dG5LU3FheG40eURSbUpJaV8xc1g5d18yaXV6MUp0ZkJpdjlYSlZnTHZlLVlJOC1RZjc5UzZXVENQYXpUS0M4UElpTTcxeFU0UkViRndsalpuYTNfUEJ2NTcxdDdUMDZKSmJuZ1dEZXMyakE1Y2FrY3NDeWw1V1ZkYjlyZkxnbFRCdHVEYXhSWXROTHZNSGpRMTJ3N1dnMDMzYllrNVlLNHfSAa4BQVVfeXFMTWU2cnFwd3RuS1NxYXhuNHlEUm1KSWlfMXNYOXdfMml1ejFKdGZCaXY5WEpWZ0x2ZS1ZSTgtUWY3OVM2V1RDUGF6VEtDOFBJaU03MXhVNFJFYkZ3bGpabmEzX1BCdjU3MXQ3VDA2SkpibmdXRGVzMmpBNWNha2NzQ3lsNVdWZGI5cmZMZ2xUQnR1RGF4Ull0Tkx2TUhqUTEydzdXZzAzM2JZazVZSzR3?oc=5\" target=\"_blank\">Nothing Phone 3a Pro review in 10 points</a>&nbsp;&nbsp;<font color=\"#6f6f6f\">India Today</font></li><li><a href=\"https://news.google.com/rss/articles/CBMiuwFBVV95cUxNWUhTSkpOb19OZW1vUXFPbXJWLWVWWGpJdjQ3SC04ZGoxLVZ6T2YxOVpBZ29pTlZxbEpfblFUeWE0NUhvWkE1UzVmdlZVdHpwdWtEdUR4d2JZZHhBR3NYdVdiOWpIeGk2MmV0TVhyXzZPS3dTeUVZRjVCOUZRb0FGNnRsN1oyQWN0LXIzLXE1aVhjSkRyd1NIRGVVRjhEZEVkSVlIWnZ1T0ZTQjhaOUFJT3Z0a1l6LVk1X0k4?oc=5\" target=\"_blank\">Nothing Phone (3a) Pro review: Feature-rich phone with cool design</a>&nbsp;&nbsp;<font color=\"#6f6f6f\">Deccan Herald</font></li><li><a href=\"https://news.google.com/rss/articles/CBMiiAJBVV95cUxOZXpraVJwc0JmdXhvYmVQUnY4eWs2Rk9vamhhdnRYV3BrOXJtSzFUakJMY3drV09PSkxRYkdHTGwwbDlvYzgyazZrYW1uRVh0VEJ5VTJNNTVxcjN5UHYzdWVFZ190a1pjbzJDU1FjcGZvM2VDTU5jNWtsUnhtV19xTm9ydG1maF9lOVRSX0dPVU4yaHpMczR2YW81YW5QQTc4eHI3eTBZVjgwZEd0NG1rSnZ5eHNhYzIxOHRRWUU4Ny1DQndreTJaOHhETnNQOU5OTlNyZHFmREI0dWM0eTI2cDF4Nnlfc0lmbk1ETXR0RFlQS2pUanA0QVpWQjc3QjRnZExmUEFmN1A?oc=5\" target=\"_blank\">OnePlus Nord CE 4 vs Nothing Phone 3a: Detailed Comparison – Which Budget Smartphone Should You Buy?</a>&nbsp;&nbsp;<font color=\"#6f6f6f\">MSN</font></li><li><a href=\"https://news.google.com/rss/articles/CBMi1gFBVV95cUxOTldfRUdNYVlhSzRqLXJsTG51cGc2dU5GYlBtZHZzUzZtckRRbHFuNG9XVjNJeHh6anpKaFhjVnlNWURTLWNqTVoyYUItdXduTkVIUmN4YzFLVHZSVkdoR0l4cGtTX1E5Sjc4a2JaVXVXY1ZpMFphUzNzTkZzWmJWazg4VU8xei0xOXdPRUMtVEVYZXZsaG91MWgzYmdnTVlXc3hUZDdXM0ROeTN5LXB0bzRWRjJlSlI0VVRteFc0eDdPUy1LTWdVNUkteldIRHlXY1Jhamtn?oc=5\" target=\"_blank\">Flipkart launches counterintuitive \\'Don\\'t Buy Me\\' campaign for Nothing’s Phone (3a) Pro</a>&nbsp;&nbsp;<font color=\"#6f6f6f\">Exchange4Media</font></li></ol>', 'link': 'https://news.google.com/rss/articles/CBMixgFBVV95cUxQNTR3Zlg3NHRoM0J2U1A4VVFYQmpDNWdwbzBwR2xjbFlGYkMxQTE1MHdBWXpjcmxPVDZ0aG03U0xBSU1Fak1HNm9BTktMbXRaLUx3QTRSQUVNT3ZoWjRXZHZUQXdEaGpJZ2tMSTE5Q1hhZlhvejhkS3lHMkpYcTI4S2E0OW1OamhiTnVCcjFLVDNhU05BZW9TbUxBWjcyd1M3Tm9GeWNvMHlCRDhnQjlrYjk3RmhjUUJCLUxWNHVFQUY3bXJ2MXfSAcIBQVVfeXFMT3VvYmM5UEpxWHlrMzM1Y25SX0I2M1g4ekZ1RGlxQ2xSRm1NdTY5NzVuWWlieGg3VFFYZkw0LVd0SlR4dnp1bzNMUmtOTnhvQnUzY0tWTWxydThuVFg1WWxwN3pBWGcxWE44UlVQRDM5djFVN1puaVQwaUpzY2NVTXp2M1E1VldLRDdOclctVmwwM0dnX3Q0aHRzUTRidmFOYktSRk5vOHlrR3U4U0RZc091UzQ4aTVOQWFWN184NHQxZEE?oc=5'}, {'title': 'Google Pixel 9a: AI with Gemini Nano, But RAM Constraints Hold It Back - The Bridge Chronicle', 'summary': '<ol><li><a href=\"https://news.google.com/rss/articles/CBMie0FVX3lxTE9feVZQc3Z2dFl0RUhIUVFIbUZVQnpadUpmRXR3UVhJYzZxbk40dktCbW1UWVY5SHFESlZiYUVFRnRJNjlxV0hqQkR3eUJBRjlUb1B4QWVCZEtRaWhFSzlQX0Rad01QdG9Ka0VQTmQzdkx1QnJWcjYtUzJWZ9IBiAFBVV95cUxPQWdpeUV4b1ItNU5lcDJ3U09XLWVSNUtVNVdBNWE4aVlxei1oc3loVzgtaEMwT2lseGZLNFZSek9GbTMxb0pUWE1va1JTZ3pfcTJ0cEJuSkllb0NOUG9JaGtPamY1SnM1NUpHdHZWWkhGTWt6UEdibE5MYzcwS0ZiN0t0RHN6cGRV?oc=5\" target=\"_blank\">Google Pixel 9a: AI with Gemini Nano, But RAM Constraints Hold It Back</a>&nbsp;&nbsp;<font color=\"#6f6f6f\">The Bridge Chronicle</font></li><li><a href=\"https://news.google.com/rss/articles/CBMieEFVX3lxTE43WnJkMHV3RUFpUkRScG1CWDBuazFTMWpUcHNCX3huQzZpdFYyS2RSOXdDWEFEdVh2TlR4ellvcU1ZbnRqanVwYUVrbUoyOTFCV3FvODZMa01sTUZhdnBNOVdOWkNJSExFazlsS0ozRjdFdDhRTzF1c9IBdEFVX3lxTE0zXzZMR1VpTHppNkJjMERuMFkzZzIxMHBucm1pSEpfS1VmVEJvY2JTa3N2aHN3dTNiNlYzX216dUpEcWhXVDR0UzcyVWlHZkViWEJORnUxeXpMbmtiaXhCLVRCU2hmVGhZWnRSVlVacENaV1lf?oc=5\" target=\"_blank\">Google Pixel 9a in for review - GSMArena.com news</a>&nbsp;&nbsp;<font color=\"#6f6f6f\">GSMArena.com</font></li><li><a href=\"https://news.google.com/rss/articles/CBMisAFBVV95cUxNWjJOdE9hVko4NkRrZmtaZ1NyaXl0U2VWS1JJR1F3cFFTWE5BQXVuOUI4bWJ3dHVvSUpiNGN0OFcyZzlwSnFwSVpRdU1ZcHNDdlJKZ2htaWZEMHFZTzFWYVFfcUUwMURueGRNOHpzWkp1dW9NZVpvMmthdHdDZHdmSG9ybTFhcVZZOHlCTWtHRWQwZkQ5YUg1TnkzUEZIZC1qYXhHM1MyeG02QkpZYU1wcQ?oc=5\" target=\"_blank\">Pixel 9a launched in India: Prices, full specs</a>&nbsp;&nbsp;<font color=\"#6f6f6f\">India Today</font></li><li><a href=\"https://news.google.com/rss/articles/CBMizAFBVV95cUxNLU1sUmdudzhlNWFra3U0V01nemlfd0ZPVUxrQjI1OHUxVS1HblMycDY2d29SUTFlcUhCd3Y1eDdNa05TRUE5UW5JZW4yVlotWHhsZjBjX2gyRGtxcEFqeHN1bS05NWI0UEItYUItam9CTWMwU24yT3JjMGY2bTYzLTFaajI3LXNkZ1U2eGxISDlOQmY3N0tSZ29iZ3JlUzIwLTZxRTV3cjhpd0RZN2piU1RqTnVBcHdkMzVDNVJ4YmRNRW1BX1kxMnVrSXc?oc=5\" target=\"_blank\">Apple iPhone 16e vs Google Pixel 9a: Which phone offers more value for money?</a>&nbsp;&nbsp;<font color=\"#6f6f6f\">The Indian Express</font></li><li><a href=\"https://news.google.com/rss/articles/CBMirwFBVV95cUxQQ3p6SnFobHNIUkRrdHc4U1JCTEE1ZjBVV2JDZVpnc1hzUDhMR2hHaDVNOUVFa0VaRjBSSDRaeXBKLXlpSzRmUG5aSkFiMk9uTXlhTTlaaFpSUUM0NVdzQkF1ZFRhN2tudmNpWWg4RFRRbkNJYThfelF6NXFaLXM0TEJ3UGtuT19aMGlxRzc0bUJKNE9GNUl1UTBlS0pGXy0tUFZPTlo2RWRuNU5aazE00gG0AUFVX3lxTE5fM0I1R2tLRWNjMW9jb0RZSVZEbGFFc2ZfX3U0X0xFYmxlX21QOEUzS1lDX3V2N1B6WUlDTzJlZjk5RXFNekVrcVB2WHl3Mkh3Nmk3eWp4OVg3NnpPSXVuSENELXFjd1BKdjJfOTVJVmZLTzY1V3QyQ1RmRXpwMUhucUFVano1WFE3MHluWUNwR183VzdMQXRWcXdzLURYZTVBRmhEWlViN20xRExKOUlmajFWcw?oc=5\" target=\"_blank\">Google Pixel 9a Reportedly Runs Smaller Gemini Nano LLM, Misses Out on AI Features Due to RAM Constraints</a>&nbsp;&nbsp;<font color=\"#6f6f6f\">Gadgets 360</font></li></ol>', 'link': 'https://news.google.com/rss/articles/CBMie0FVX3lxTE9feVZQc3Z2dFl0RUhIUVFIbUZVQnpadUpmRXR3UVhJYzZxbk40dktCbW1UWVY5SHFESlZiYUVFRnRJNjlxV0hqQkR3eUJBRjlUb1B4QWVCZEtRaWhFSzlQX0Rad01QdG9Ka0VQTmQzdkx1QnJWcjYtUzJWZ9IBiAFBVV95cUxPQWdpeUV4b1ItNU5lcDJ3U09XLWVSNUtVNVdBNWE4aVlxei1oc3loVzgtaEMwT2lseGZLNFZSek9GbTMxb0pUWE1va1JTZ3pfcTJ0cEJuSkllb0NOUG9JaGtPamY1SnM1NUpHdHZWWkhGTWt6UEdibE5MYzcwS0ZiN0t0RHN6cGRV?oc=5'}, {'title': 'iPhone 16e price slashed by ₹8,000, now available for ₹52,000 after Pixel 9a launch - Bizz Buzz', 'summary': '<ol><li><a href=\"https://news.google.com/rss/articles/CBMiqwFBVV95cUxQMTNBQUF2OEtNb25rTHl1cEZWUm9veV9IT3VoUmw4Q1RKSnVreVZIcWdtNUdhbUZOLXdDU0MyempTTG9ITTZBeGk3M2k0eWFMQVFKcUl4S1lodFpQd1RmVVpYMlh1c1JkcTBudXZac2FONGU2Nk4wMEJ4R1FYZVl5OF9QQ3ppUVN4VHpaQWEzNTFVNk5fN3lVY1paM01kU2E0R1dIc0k2eXU4OGs?oc=5\" target=\"_blank\">iPhone 16e price slashed by ₹8,000, now available for ₹52,000 after Pixel 9a launch</a>&nbsp;&nbsp;<font color=\"#6f6f6f\">Bizz Buzz</font></li><li><a href=\"https://news.google.com/rss/articles/CBMiogFBVV95cUxNSXdEaXA4UG1jd2FFenV3LXpPT1FXbl9sS29sZGhnaGxkcjIzMFFHbW1MaVhmb2Y0cWdsQnZuRFRFM1lfakxGQ0o1M1UxRmJfSnpULVN2WDNPREc1VUxWdE9pdF9UY2xCR2RvdktrTExyOGw1SGl3Z2xYcjBURHVFeVE5Y0JKcE83Q0NDd01tYWZpdkV6QnlFMVNmWUVWRkhUUFHSAaIBQVVfeXFMTUl3RGlwOFBtY3dhRXp1dy16T09RV25fbEtvbGRoZ2hsZHIyMzBRR21tTGlYZm9mNHFnbEJ2bkRURTNZX2pMRkNKNTNVMUZiX0p6VC1TdlgzT0RHNVVMVnRPaXRfVGNsQkdkb3ZLa0xMcjhsNUhpd2dsWHIwVER1RXlROWNCSnBPN0NDQ3dNbWFmaXZFekJ5RTFTZllFVkZIVFBR?oc=5\" target=\"_blank\">iPhone 16 gets a big\\xa0price\\xa0drop</a>&nbsp;&nbsp;<font color=\"#6f6f6f\">India Today</font></li><li><a href=\"https://news.google.com/rss/articles/CBMi_AFBVV95cUxNdHVoT1BsclZVRDRabnM0dGxsNldyaGVfUTNTNlZ3NFJnc1VGWW1DSno2MW9WWkRNd242dnFRNUpDUS1iRjhQVnVKbjhIVkFkLVA3MV9RM2llTG50M1F6WmR1OWZMd0ZKZHVIeWZUUnpVY05HQlpJVnFNQ291QTQ2eEtrbVZtcjF0aGRsWGZneDVHNExIOUlncHZqaXVhRmZrRFJZdGpGVW5JVnhPY0FxWE92R2FxQlV5RW9FdVd5RlJza0hpdzlHeDNSYkNtN0p6eDZOWEF4OV9EWHIyMFFodS14ZjVkTmlpTnhXcUI2a1ZOSVpNeWFHZDJsWHHSAYICQVVfeXFMTnNPNldCck1adzNiclJEVElvOG04cVlkYXI0bWJqUWpwLXJDU1EzbVM1eGtKMVFfM1FmcEtjT2Y3cTcyNlQyckhoMG9TSnIwZlBOcDNkQmdieTgtX2tKOG1sMXhvVWVxbGJ3VFd4ZVBBSDQ0RDlmZVhaMXQwS0lpczVrYkJFUkVyak8zV2JWTENyNVFoUnlpdEdJXzN0R0dhdVNYUl93UXFlY25wcFJ3SXNneUlKa2ZUeTZ6R3E1aHhOWFhVTWFaYnVHNkNSQkpPZTQ3OHk1U2ppX0JWWm1vWGdCb0VVeW1iZ0N5OWRCU3R3Rnd6X0g1ZExzNFRDbVN6bUdR?oc=5\" target=\"_blank\">Apple iPhone 15 is available for just Rs 28,205 on Amazon; know how to grab the deal</a>&nbsp;&nbsp;<font color=\"#6f6f6f\">The Times of India</font></li><li><a href=\"https://news.google.com/rss/articles/CBMitwFBVV95cUxOTl9wNnBLUVNqQ00zMERkQ0RnMW5ZeUVBMjUwbVQwclE0MTNMVkwxSmlsTmJzTkpxeURQVzBEcTJUVmJhWXpkUVZKRUN1X1JId0x4QW1Ya0xqZW1FeXZyRzlPU3RlQm53cVltWS05VmhFOU83TVhreWtZcndQZDh6N202anhxRE9hSzFHZ004dU5lMVdOcFg2dXVNNVJRVlo5UkhoWGptZFJQWEdnT3JMblJaeXBrUkXSAb4BQVVfeXFMTXg2d1FwQ0lVRElhVzJETmhTcnJ6MU9wLUMwb0NueHdfald2cG9Vckx1bGxkVUFyNWl1UHFLck9mOVk1cmhsUlVESWpHbnZrUUppRzRpVUo0MjYxWjR3ZjltSVo4dEE1S0xhS0YySUxNVFNmN21FZ0djTHdvdzUwTENRRHVoVDg4VWtwXzBnc1lRQm5UUmFTeGhKOU5jQS1UNGtxaHpVRlJOd05aNWRFUi1WR3pxVEJpMElJV1VwQQ?oc=5\" target=\"_blank\">iPhone 16 Plus available with Rs 11,600 discount: Check deal details here</a>&nbsp;&nbsp;<font color=\"#6f6f6f\">Digit</font></li><li><a href=\"https://news.google.com/rss/articles/CBMiyAFBVV95cUxObW5wYk1RMlQtQ2VzZ09BTHQ5cEdGeUFYUmdGRl96clJYZ0IxaDktMVFNd3ByMVBZU29qNElhMzhvWm0tSFFpeTB5RDV6dWhGS3Z1ZjgyN2Vwckh3WGk0dGxvLU9qOHNvcE1VNk9FS1lheTFkVU02bzY2RDZWaE14MXhDRjlOa0hIeWQ3WnQyVE9PTTFMSExtdndmY081VXJvXy1sTmRXV3Flb2U2RlFYTzY5V2pSLS1DaHRJQkZUZ0d4ck1hUGJFM9IBzgFBVV95cUxNdFktNjZOZW1udXZCRHZ4TW1QT1k2MFVTOXFxNXAxU2c5RlMzV3JFSFhDbXNJUkdtaHBhMmEzeU1ZVnQ5R1lJT3g2bVhtV2JFY1NzcjByb25vYzQtRTFaZHBteFFIdmFNTlVOQUhLRHFmQzh0aTN6a0ZEbFo3Y1c4X2t0TlFhRlM2N2gxX1J3eW52QVFWLVdTMUhFZ1JhN2FIS1plbGkwekhwTE1HR2JhSzJNa1RVZldPU2lnNEgzdjl1YzA0bS0yb0JneFdlUQ?oc=5\" target=\"_blank\">Pixel 9a launch effect: Apple iPhone 16e price drops below Rs 52,000</a>&nbsp;&nbsp;<font color=\"#6f6f6f\">Moneycontrol</font></li></ol>', 'link': 'https://news.google.com/rss/articles/CBMiqwFBVV95cUxQMTNBQUF2OEtNb25rTHl1cEZWUm9veV9IT3VoUmw4Q1RKSnVreVZIcWdtNUdhbUZOLXdDU0MyempTTG9ITTZBeGk3M2k0eWFMQVFKcUl4S1lodFpQd1RmVVpYMlh1c1JkcTBudXZac2FONGU2Nk4wMEJ4R1FYZVl5OF9QQ3ppUVN4VHpaQWEzNTFVNk5fN3lVY1paM01kU2E0R1dIc0k2eXU4OGs?oc=5'}, {'title': \"One UI 7 sets a date, sets another one, then gets cold feet in this week's news - Android Police\", 'summary': '<ol><li><a href=\"https://news.google.com/rss/articles/CBMifEFVX3lxTE45ZGVnY003OXByemhubndkLWw5T2lCSEgzU1RiVlk3ZkpKTWhDTTZYSloxc2drd29LWVlyNkJmTXFkMDFjZ1cwLU13cHBzcjV2blRxMjJIVWRmOVBrU29mNjVBbC1mWFZGMlV4aDJhOVVCT2dDd0FNaDBEVlU?oc=5\" target=\"_blank\">One UI 7 sets a date, sets another one, then gets cold feet in this week\\'s news</a>&nbsp;&nbsp;<font color=\"#6f6f6f\">Android Police</font></li><li><a href=\"https://news.google.com/rss/articles/CBMihwJBVV95cUxOVmt3dndISzU4Z1RxcGpOTkMzTFFDUHQ3NkFaMDFNM3poQVZ4Q3ZjdDBlaDZhRFRpaVBxWlFFcTd6X29NdjRwallBZktuejNaMFR6U1hsZDlWRmw2eTk2MDJtYlJXVERWS2l0cE1pcGlnRmlMTzRKNkRISzJQSl9FSjdON0UyeTREWmdJVzJPMEtSUU44WTJiM1p2cUxGalFTTEk3T0piY1VlSTBBcnNXYVlfaHhKcjJQOHVxUkZISXA4bE9pNVpQQVhQMkd2RkZwdFgtRTVHTDhxNGJkSzVYYl9paXJCSlVVOFhzcUdiUWhaTnhaVzRsb2l5MDFiajhFelZyM2NiTQ?oc=5\" target=\"_blank\">Samsung confirms One UI 7 update for older Galaxy devices; 34 models now eligible. Is yours on the list?</a>&nbsp;&nbsp;<font color=\"#6f6f6f\">Mint</font></li><li><a href=\"https://news.google.com/rss/articles/CBMimgFBVV95cUxOSkg2YnBPd3ozVlRwSzJ6VnlibTFlcnJKTUtKTEt5VlA5V3B4aVhtNl8zYWhnRXhhaTM3aV91Yk5fNkx5dERvZ1pKNGo5N0Jrek1GdDJZcEFhcmc1bDVmbmlidFBiM0RVMi04elN4Y05fMU80S1NWUFRyTUk5SHpjYzVJZmFGVTlxQ0ZBMXo2eVMwTnRoVU5jRm5R?oc=5\" target=\"_blank\">Samsung Announces Official Rollout of One UI 7 Starting from April</a>&nbsp;&nbsp;<font color=\"#6f6f6f\">Samsung Newsroom Australia</font></li><li><a href=\"https://news.google.com/rss/articles/CBMi3AFBVV95cUxORG5UQ2czZjhFQnlPMFVjSG82RFZTY2lQaEFSajA4bTdJREtGOUFOdWo1OWo2cHF3V0d2X2U4TTA0ZlJ5cUFmZEstaFZnTktQUS01QXBwcWhZaXRkWjJpN2lVem52UnEzcmNIX25QbFJIRVl4dTRKY0o1Ry1CMTM0QXh6SWNySGFVekpiTF9nNm9kbjBjMHM3SWd0OVFtNEVhSmJYX282cFZWV3JfR1RpTUpvaFc3SGlHQTVOMGhUNklUTkRZZ2tEelpYejhjbHM5dlBHYkNEcG42N0tr0gHiAUFVX3lxTFAxWHN4TmpBRm13VWZ1VkZjWlduVUdtV2oxTTU5QWMxdXRpTjd1YUVWOU5EenNOLWlaMVNlR1Z5eFFpN0lSRklJSmJuX2tzSE5jX1g1cUdfa1phUzBWZ0ZuQ1h0RDlRUE1IRklWNXNtWmtNdzFGMl9DMTZnZW5wNi1VN1Y1NDBWdHp0MVpRWmFBRHJ1czVETDdmUkp0bUY3bFZZbGp0cGhKUkpwdUVaS3BUSWVrYkxoczM1bkdxcXNlRVVQdWhPU1hNY3RWak9VblNKeW1ySHBDRkVpVkkyREQtdkE?oc=5\" target=\"_blank\">Samsung expands One UI 7 rollout for Galaxy S21, S22, and more for Android 15 update</a>&nbsp;&nbsp;<font color=\"#6f6f6f\">India TV News</font></li><li><a href=\"https://news.google.com/rss/articles/CBMijwFBVV95cUxQcG1PNWVWUy1BVVJ6TTh0VUJaek40RUJNWTdnMGZ2X2NuRFhQVGVDRVpZQ015RHlac2lld1U2WERuald4Si1ncDBUTmIzZERpamhoa19HeUpfRURaN0dqa2I2R1JuVWZEa1R6a3hJWHFEcFlsTnNCbjhMaDVwb2ZZYldyVHBSSjg0YWFNMVJ5aw?oc=5\" target=\"_blank\">Did Samsung just quietly delay One UI 7 public release?</a>&nbsp;&nbsp;<font color=\"#6f6f6f\">SamMobile - Samsung news</font></li></ol>', 'link': 'https://news.google.com/rss/articles/CBMifEFVX3lxTE45ZGVnY003OXByemhubndkLWw5T2lCSEgzU1RiVlk3ZkpKTWhDTTZYSloxc2drd29LWVlyNkJmTXFkMDFjZ1cwLU13cHBzcjV2blRxMjJIVWRmOVBrU29mNjVBbC1mWFZGMlV4aDJhOVVCT2dDd0FNaDBEVlU?oc=5'}, {'title': 'Gemini Live’s Astra camera, screen sharing starts appearing on Android - 9to5Google', 'summary': '<ol><li><a href=\"https://news.google.com/rss/articles/CBMidEFVX3lxTE5IT3Jpb2lnLWVZaHNMbTdIckhNZ0c5VG1Pc2dhS2syS2VYanJOVTVMaDQ0elR3UnBFUVB5THdVU2VBNkJwMU5mdDJQMDIxSkJmSllwZlctSTVDNE9Jc0JoRmZiQlpnY19EOGY0RUFYdlZXUWZC?oc=5\" target=\"_blank\">Gemini Live’s Astra camera, screen sharing starts appearing on Android</a>&nbsp;&nbsp;<font color=\"#6f6f6f\">9to5Google</font></li><li><a href=\"https://news.google.com/rss/articles/CBMickFVX3lxTE9kX0pMd0lVN2VEak9DdEhhSHE3c3Q0bk4yMzhucmJOZ3F5Tk9RcTBtT1IwdVNQMFBtMjJhWWozbGk1ZTNVZEM1cTZiRVVjdXZiMWxBMjYwT0RKN3RRcTEyWGgzcWg3UW5YdW1WTGN0azl0UQ?oc=5\" target=\"_blank\">Gemini Live gets more compact interface ahead of Astra</a>&nbsp;&nbsp;<font color=\"#6f6f6f\">9to5Google</font></li></ol>', 'link': 'https://news.google.com/rss/articles/CBMidEFVX3lxTE5IT3Jpb2lnLWVZaHNMbTdIckhNZ0c5VG1Pc2dhS2syS2VYanJOVTVMaDQ0elR3UnBFUVB5THdVU2VBNkJwMU5mdDJQMDIxSkJmSllwZlctSTVDNE9Jc0JoRmZiQlpnY19EOGY0RUFYdlZXUWZC?oc=5'}, {'title': 'realme unveils new models P3, P3 Ultra - The Hans India', 'summary': '<ol><li><a href=\"https://news.google.com/rss/articles/CBMiigFBVV95cUxQRDdlQWR1UW92M0NoVHJDOEJJTHNCajhrMWF6UFVXS215N1BrYVBqYk50bHlORVYtOUxNeHYzaFFISDc1dDFSS1NzdzJubzNiRlZ2bzB0U3ZjSjRuUm1Od1RjeTY2WHUxWDlMZ2YzWjJTUU4zclhNM3FYZlFGRDhaRXNMaG12MkRlMWfSAY8BQVVfeXFMTS1XMnc2MFA2clNZMHlabU9UU2ZwSHRsdW84dzJTV29DQVkwLWV4cDMySXZ1b0oyam0zZkc4QWdQc19ROFhuMEw2a29ZX2MwVzZZR2ZnMkxodHAyelFOVmNCUkZSUDQ5UExzb0pEVjhHNzdpNUltR1RWS2dXSnFrbWtMMUpPZE1weW1yQXRxd2s?oc=5\" target=\"_blank\">realme unveils new models P3, P3 Ultra</a>&nbsp;&nbsp;<font color=\"#6f6f6f\">The Hans India</font></li><li><a href=\"https://news.google.com/rss/articles/CBMirgFBVV95cUxORnBlanVYcnpDZFIzSzNubXNsS2l3WFZRTmhOTFNkUHQxRWtlblM1eHYxeXZPMDk3aVdLcmlVVWVncHBrUVlxd2QwMEtEZVBUb09sSEpzOTFzbVJzRTRUalQ1LUZLZGhVeVpIUXVkQTAwaDVpMW9zRlU0MWo0RW1FXzR3SThPT0xxcUpEbGdIMWZvVE1paFQwaUFXb3Q4U3hGY285cVYyYWNGTnFKTnfSAa4BQVVfeXFMTkZwZWp1WHJ6Q2RSM0szbm1zbEtpd1hWUU5oTkxTZFB0MUVrZW5TNXh2MXl2TzA5N2lXS3JpVVVlZ3Bwa1FZcXdkMDBLRGVQVG9PbEhKczkxc21Sc0U0VGpUNS1GS2RoVXlaSFF1ZEEwMGg1aTFvc0ZVNDFqNEVtRV80d0k4T09McXFKRGxnSDFmb1RNaWhUMGlBV290OFN4RmNvOXFWMmFjRk5xSk53?oc=5\" target=\"_blank\">Realme P3 Ultra launched: Top specs, price and\\xa0more</a>&nbsp;&nbsp;<font color=\"#6f6f6f\">India Today</font></li><li><a href=\"https://news.google.com/rss/articles/CBMinAFBVV95cUxOVzkxSTJDdTNuOFB5Z0lIOUg0OThObElJWEJYNkxwOU1TYVhDNEhvejFTRkpXWXd6dVpkbWpZSUFWZlBGOWxGTEtScVNnRU9Ib05TOERDTktoaXFGbFhpYWkzMC1uSmM0U0prazFxWExFek9BOEpwOUxFc3hvYWM5YTFiU08xekJUdlAyeHR6N092SUJEMnRIZ3FkS2XSAZwBQVVfeXFMTlc5MUkyQ3UzbjhQeWdJSDlINDk4TmxJSVhCWDZMcDlNU2FYQzRIb3oxU0ZKV1l3enVaZG1qWUlBVmZQRjlsRkxLUnFTZ0VPSG9OUzhEQ05LaGlxRmxYaWFpMzAtbkpjNFNKa2sxcVhMRXpPQThKcDlMRXN4b2FjOWExYlNPMXpCVHZQMnh0ejdPdklCRDJ0SGdxZEtl?oc=5\" target=\"_blank\">Realme P3 5G: Budget 5G Smartphone</a>&nbsp;&nbsp;<font color=\"#6f6f6f\">Rediff.com</font></li><li><a href=\"https://news.google.com/rss/articles/CBMirwFBVV95cUxPVmpoOGJHNUZyRk5xQkxTeFRVN0FvcnYyS3ZVdlUtOWtDTXBNZFg5T3JhMGJjc0tJTEZNTlh6ZHp4N3VadHg1QnFJOFRSalFrQzE3aHd6dmxWWV8tZWNWWDFaMC1LcmpyZkc0bXd5YklyZTE0RFpXb2ZrbEdXWUJBek1fOFdaQjc4VTlRVnBTRGI0bC1uRzZPTHNwZHVZM05veTBQUlFFLU5KRG9jSmJJ0gG0AUFVX3lxTE1QNEQ3eUNpVm1KTmpuNUJEMWluQ0JqTkpfTEFfUHEwWmZOVUdlZDBobENHeFZhYjlLMFBRbFVmSXhrVEw1QkNsSjlXaTVlU1FJNWVnc29WeS1jM1gwWVk2a29EQjdmczhRUHVOS2h5bHpEcjNjWUhBai1JVlR6Sm9TQlo5ZnpsZk5YVk92QzctVUF4dDBGTy1zZ0o1ODNsSmdneVpwUVdiV3ZBblkzME1EVUdaYw?oc=5\" target=\"_blank\">Realme P3 Ultra 5G With 6,000mAh Battery Launched: Price, Specs And More</a>&nbsp;&nbsp;<font color=\"#6f6f6f\">News18</font></li></ol>', 'link': 'https://news.google.com/rss/articles/CBMiigFBVV95cUxQRDdlQWR1UW92M0NoVHJDOEJJTHNCajhrMWF6UFVXS215N1BrYVBqYk50bHlORVYtOUxNeHYzaFFISDc1dDFSS1NzdzJubzNiRlZ2bzB0U3ZjSjRuUm1Od1RjeTY2WHUxWDlMZ2YzWjJTUU4zclhNM3FYZlFGRDhaRXNMaG12MkRlMWfSAY8BQVVfeXFMTS1XMnc2MFA2clNZMHlabU9UU2ZwSHRsdW84dzJTV29DQVkwLWV4cDMySXZ1b0oyam0zZkc4QWdQc19ROFhuMEw2a29ZX2MwVzZZR2ZnMkxodHAyelFOVmNCUkZSUDQ5UExzb0pEVjhHNzdpNUltR1RWS2dXSnFrbWtMMUpPZE1weW1yQXRxd2s?oc=5'}]\n"
          ]
        }
      ],
      "source": [
        "company_name = \"Tesla\"\n",
        "news = extract_news(company_name)\n",
        "print(news)"
      ]
    },
    {
      "cell_type": "markdown",
      "metadata": {
        "id": "9DJI7wA6vQ4o"
      },
      "source": [
        "## **Step 3: Perform Sentiment Analysis**"
      ]
    },
    {
      "cell_type": "code",
      "execution_count": null,
      "metadata": {
        "colab": {
          "base_uri": "https://localhost:8080/"
        },
        "id": "9eymfB2mvR45",
        "outputId": "ea94aa12-6ba2-46cc-97f3-dca81fa2b14e"
      },
      "outputs": [
        {
          "name": "stderr",
          "output_type": "stream",
          "text": [
            "[nltk_data] Downloading package vader_lexicon to /root/nltk_data...\n"
          ]
        }
      ],
      "source": [
        "import nltk\n",
        "from nltk.sentiment import SentimentIntensityAnalyzer\n",
        "\n",
        "nltk.download('vader_lexicon')\n",
        "sia = SentimentIntensityAnalyzer()\n",
        "\n",
        "def analyze_sentiment(text):\n",
        "    score = sia.polarity_scores(text)\n",
        "    if score['compound'] >= 0.05:\n",
        "        return \"Positive\"\n",
        "    elif score['compound'] <= -0.05:\n",
        "        return \"Negative\"\n",
        "    else:\n",
        "        return \"Neutral\""
      ]
    },
    {
      "cell_type": "markdown",
      "metadata": {
        "id": "voNe9UZMvpC2"
      },
      "source": [
        "**3.1 Test the Sentiment Analysis**"
      ]
    },
    {
      "cell_type": "code",
      "execution_count": null,
      "metadata": {
        "colab": {
          "base_uri": "https://localhost:8080/"
        },
        "id": "nQXAO3S7vqFV",
        "outputId": "76df0925-42b1-4c28-e103-8fcc8efb24bf"
      },
      "outputs": [
        {
          "name": "stdout",
          "output_type": "stream",
          "text": [
            "Positive\n",
            "Neutral\n"
          ]
        }
      ],
      "source": [
        "print(analyze_sentiment(\"Tesla's latest car is amazing!\"))\n",
        "print(analyze_sentiment(\"Tesla is facing issues with regulators.\"))"
      ]
    },
    {
      "cell_type": "markdown",
      "metadata": {
        "id": "Al8vv19Sv3Xt"
      },
      "source": [
        "## **Step 4: Perform Comparative Sentiment Analysis**"
      ]
    },
    {
      "cell_type": "code",
      "execution_count": null,
      "metadata": {
        "id": "vf4zer0Ovv7s"
      },
      "outputs": [],
      "source": [
        "def generate_comparative_analysis(articles):\n",
        "    sentiment_scores = {\"Positive\": 0, \"Negative\": 0, \"Neutral\": 0}\n",
        "\n",
        "    for article in articles:\n",
        "        sentiment_scores[article[\"sentiment\"]] += 1\n",
        "\n",
        "    return sentiment_scores"
      ]
    },
    {
      "cell_type": "markdown",
      "metadata": {
        "id": "H1SGaEPjwDGP"
      },
      "source": [
        "**4.1 Test Comparative Analysis**"
      ]
    },
    {
      "cell_type": "code",
      "execution_count": null,
      "metadata": {
        "colab": {
          "base_uri": "https://localhost:8080/"
        },
        "id": "Qa_vVr7pwD2o",
        "outputId": "fea22840-68bd-4d44-bcc5-29c77eefa916"
      },
      "outputs": [
        {
          "name": "stdout",
          "output_type": "stream",
          "text": [
            "{'Positive': 1, 'Negative': 1, 'Neutral': 0}\n"
          ]
        }
      ],
      "source": [
        "sample_articles = [\n",
        "    {\"title\": \"Tesla's Success\", \"summary\": \"Tesla stock rises.\", \"sentiment\": \"Positive\"},\n",
        "    {\"title\": \"Regulatory Scrutiny\", \"summary\": \"Tesla faces issues.\", \"sentiment\": \"Negative\"}\n",
        "]\n",
        "\n",
        "print(generate_comparative_analysis(sample_articles))"
      ]
    },
    {
      "cell_type": "markdown",
      "metadata": {
        "id": "hS45N3BOwkv_"
      },
      "source": [
        "## **Step 5: Convert Text to Speech (TTS) in Hindi**"
      ]
    },
    {
      "cell_type": "code",
      "execution_count": null,
      "metadata": {
        "id": "OH0tDp-kwmYC"
      },
      "outputs": [],
      "source": [
        "from gtts import gTTS\n",
        "import os\n",
        "\n",
        "def text_to_speech(text, language=\"hi\"):\n",
        "    tts = gTTS(text=text, lang=language)\n",
        "    audio_path = \"output.mp3\"\n",
        "    tts.save(audio_path)\n",
        "    return audio_path"
      ]
    },
    {
      "cell_type": "markdown",
      "metadata": {
        "id": "eavzOW8ZxB3_"
      },
      "source": [
        "**5.1 Test TTS**"
      ]
    },
    {
      "cell_type": "code",
      "execution_count": null,
      "metadata": {
        "colab": {
          "base_uri": "https://localhost:8080/",
          "height": 36
        },
        "id": "skJYZKmdw_k0",
        "outputId": "c020d499-ac99-4c6d-d13f-0e97579daebd"
      },
      "outputs": [
        {
          "data": {
            "application/vnd.google.colaboratory.intrinsic+json": {
              "type": "string"
            },
            "text/plain": [
              "'output.mp3'"
            ]
          },
          "execution_count": 14,
          "metadata": {},
          "output_type": "execute_result"
        }
      ],
      "source": [
        "text_to_speech(\"Tesla ki nayi gadi bazar mein aayi hai.\")"
      ]
    },
    {
      "cell_type": "markdown",
      "metadata": {
        "id": "s4ewxj0UxYCo"
      },
      "source": [
        "## **Step 6: Develop API Using FastAPI**"
      ]
    },
    {
      "cell_type": "code",
      "execution_count": null,
      "metadata": {
        "id": "P2qPI34XxY-R"
      },
      "outputs": [],
      "source": [
        "# In a separate file named news_scraper.py, you should have the following code:\n",
        "\n",
        "import feedparser\n",
        "\n",
        "def extract_news(company):\n",
        "    # Google News RSS URL for the company\n",
        "    rss_url = f\"https://news.google.com/rss/topics/CAAqJggKIiBDQkFTRWdvSUwyMHZNRGRqTVhZU0FtVnVHZ0pWVXlnQVAB?hl=en-IN&gl=IN&ceid=IN:en\"\n",
        "\n",
        "    # Parse the RSS feed\n",
        "    feed = feedparser.parse(rss_url)\n",
        "\n",
        "    articles = []\n",
        "    for entry in feed.entries[:10]:  # Get the first 10 articles\n",
        "        articles.append({\n",
        "            \"title\": entry.title,\n",
        "            \"summary\": entry.summary if 'summary' in entry else \"No summary available\",\n",
        "            \"link\": entry.link\n",
        "        })\n",
        "\n",
        "    return articles"
      ]
    },
    {
      "cell_type": "markdown",
      "metadata": {
        "id": "iQR2DWqEx70h"
      },
      "source": [
        "**6.1 Run the API**"
      ]
    },
    {
      "cell_type": "code",
      "execution_count": null,
      "metadata": {
        "colab": {
          "background_save": true,
          "base_uri": "https://localhost:8080/"
        },
        "id": "u1da-6Xfx12z",
        "outputId": "4e1e7abd-cd28-49c3-f460-a2b379c75bb4"
      },
      "outputs": [
        {
          "name": "stdout",
          "output_type": "stream",
          "text": [
            "\u001b[32mINFO\u001b[0m:     Will watch for changes in these directories: ['/content']\n",
            "\u001b[32mINFO\u001b[0m:     Uvicorn running on \u001b[1mhttp://127.0.0.1:8000\u001b[0m (Press CTRL+C to quit)\n",
            "\u001b[32mINFO\u001b[0m:     Started reloader process [\u001b[36m\u001b[1m27860\u001b[0m] using \u001b[36m\u001b[1mStatReload\u001b[0m\n",
            "\u001b[31mERROR\u001b[0m:    Error loading ASGI app. Could not import module \"api\".\n"
          ]
        }
      ],
      "source": [
        "!uvicorn api:app --reload"
      ]
    },
    {
      "cell_type": "markdown",
      "metadata": {
        "id": "YenRYxVzyJhK"
      },
      "source": [
        "## **Step 7: Build Web Interface Using Streamlit**"
      ]
    },
    {
      "cell_type": "code",
      "execution_count": null,
      "metadata": {
        "id": "XDlcMNS1yLGs",
        "colab": {
          "base_uri": "https://localhost:8080/"
        },
        "outputId": "9ade6b69-ae28-4616-a222-2be0fdf22fa8"
      },
      "outputs": [
        {
          "output_type": "stream",
          "name": "stderr",
          "text": [
            "2025-03-23 11:15:53.925 WARNING streamlit.runtime.scriptrunner_utils.script_run_context: Thread 'MainThread': missing ScriptRunContext! This warning can be ignored when running in bare mode.\n",
            "2025-03-23 11:15:54.017 \n",
            "  \u001b[33m\u001b[1mWarning:\u001b[0m to view this Streamlit app on a browser, run it with the following\n",
            "  command:\n",
            "\n",
            "    streamlit run /usr/local/lib/python3.11/dist-packages/colab_kernel_launcher.py [ARGUMENTS]\n",
            "2025-03-23 11:15:54.017 Thread 'MainThread': missing ScriptRunContext! This warning can be ignored when running in bare mode.\n",
            "2025-03-23 11:15:54.019 Thread 'MainThread': missing ScriptRunContext! This warning can be ignored when running in bare mode.\n",
            "2025-03-23 11:15:54.020 Thread 'MainThread': missing ScriptRunContext! This warning can be ignored when running in bare mode.\n",
            "2025-03-23 11:15:54.021 Thread 'MainThread': missing ScriptRunContext! This warning can be ignored when running in bare mode.\n",
            "2025-03-23 11:15:54.022 Thread 'MainThread': missing ScriptRunContext! This warning can be ignored when running in bare mode.\n",
            "2025-03-23 11:15:54.023 Session state does not function when running a script without `streamlit run`\n",
            "2025-03-23 11:15:54.024 Thread 'MainThread': missing ScriptRunContext! This warning can be ignored when running in bare mode.\n",
            "2025-03-23 11:15:54.026 Thread 'MainThread': missing ScriptRunContext! This warning can be ignored when running in bare mode.\n",
            "2025-03-23 11:15:54.027 Thread 'MainThread': missing ScriptRunContext! This warning can be ignored when running in bare mode.\n",
            "2025-03-23 11:15:54.028 Thread 'MainThread': missing ScriptRunContext! This warning can be ignored when running in bare mode.\n",
            "2025-03-23 11:15:54.029 Thread 'MainThread': missing ScriptRunContext! This warning can be ignored when running in bare mode.\n",
            "2025-03-23 11:15:54.031 Thread 'MainThread': missing ScriptRunContext! This warning can be ignored when running in bare mode.\n",
            "2025-03-23 11:15:54.032 Thread 'MainThread': missing ScriptRunContext! This warning can be ignored when running in bare mode.\n"
          ]
        }
      ],
      "source": [
        "import streamlit as st\n",
        "import requests\n",
        "\n",
        "st.title(\"News Sentiment & TTS App\")\n",
        "\n",
        "company = st.text_input(\"Tesla\")\n",
        "if st.button(\"Analyze\"):\n",
        "    response = requests.get(f\"\").json()\n",
        "    st.write(response[\"report\"])\n",
        "    st.audio(response[\"audio\"], format=\"audio/mp3\")"
      ]
    },
    {
      "cell_type": "markdown",
      "metadata": {
        "id": "D0CBbAGf2sbf"
      },
      "source": [
        "**7.1 Run Streamlit**"
      ]
    },
    {
      "cell_type": "code",
      "execution_count": null,
      "metadata": {
        "id": "iKv0XN_E2tNZ",
        "colab": {
          "base_uri": "https://localhost:8080/"
        },
        "outputId": "3ec3a0f2-3eda-4e02-cd66-185d20bdabb8"
      },
      "outputs": [
        {
          "output_type": "stream",
          "name": "stdout",
          "text": [
            "Usage: streamlit run [OPTIONS] TARGET [ARGS]...\n",
            "Try 'streamlit run --help' for help.\n",
            "\n",
            "Error: Invalid value: File does not exist: app.py\n"
          ]
        }
      ],
      "source": [
        "!streamlit run app.py"
      ]
    }
  ],
  "metadata": {
    "colab": {
      "provenance": []
    },
    "kernelspec": {
      "display_name": "Python 3",
      "name": "python3"
    },
    "language_info": {
      "name": "python"
    }
  },
  "nbformat": 4,
  "nbformat_minor": 0
}